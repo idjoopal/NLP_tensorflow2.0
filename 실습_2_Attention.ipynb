{
  "nbformat": 4,
  "nbformat_minor": 0,
  "metadata": {
    "colab": {
      "name": "실습_2_Attention.ipynb",
      "provenance": [],
      "collapsed_sections": [],
      "toc_visible": true,
      "machine_shape": "hm",
      "include_colab_link": true
    },
    "kernelspec": {
      "name": "python3",
      "display_name": "Python 3"
    },
    "accelerator": "GPU"
  },
  "cells": [
    {
      "cell_type": "markdown",
      "metadata": {
        "id": "view-in-github",
        "colab_type": "text"
      },
      "source": [
        "<a href=\"https://colab.research.google.com/github/idjoopal/NLP_tensorflow2.0/blob/main/%EC%8B%A4%EC%8A%B5_2_Attention.ipynb\" target=\"_parent\"><img src=\"https://colab.research.google.com/assets/colab-badge.svg\" alt=\"Open In Colab\"/></a>"
      ]
    },
    {
      "cell_type": "markdown",
      "metadata": {
        "id": "RQuwLrfneJGq"
      },
      "source": [
        "# 야 나두 <번역> 할 수 있어\n",
        "\n",
        "<b>학습 목표:    \n",
        "- 번역 모델의 인풋 / 아웃풋 구조를 이해한다.\n",
        "- Seq2Seq + attention 구조를 추가한 모델을 사용해본다.</b>\n",
        "\n",
        "\n",
        "\n",
        "\n",
        "\n",
        "\n"
      ]
    },
    {
      "cell_type": "markdown",
      "metadata": {
        "id": "p8qxJDXJosrw"
      },
      "source": [
        "## #1. 실습 준비\n",
        "\n",
        "이번 실습에서는 Seq2Seq + Attention 알고리즘을 사용한 번역 모델을 사용해 한국어-> 영어 번역을 체험해볼 것입니다. \n",
        "\n",
        "Attention 알고리즘은 그 결과를 시각화해볼 수 있는 재미있는 알고리즘이어서, 특히 시작화에 초점을 맞춰볼 것인데요.\n",
        "Colab에 약간의 버그가 있어 한글 프린트가 한 번에 안 될 수 있으니 아래 스텝을 따라서 잘 진행해주세요!"
      ]
    },
    {
      "cell_type": "code",
      "metadata": {
        "id": "iMHlcXHJGJcs",
        "colab": {
          "base_uri": "https://localhost:8080/",
          "height": 357
        },
        "outputId": "089ba677-655a-4ffc-e145-d27cb4ada9f1"
      },
      "source": [
        "## 라이브러리 설치 & matplotlib 환경 설정\n",
        "import matplotlib as mpl\n",
        "import matplotlib.pyplot as plt\n",
        " \n",
        "%config InlineBackend.figure_format = 'retina'\n",
        " \n",
        "!apt -qq -y install fonts-nanum\n",
        " \n",
        "import matplotlib.font_manager as fm\n",
        "fontpath = '/usr/share/fonts/truetype/nanum/NanumBarunGothic.ttf'\n",
        "font = fm.FontProperties(fname=fontpath, size=9)\n",
        "plt.rc('font', family='NanumBarunGothic') \n",
        "mpl.font_manager._rebuild()\n",
        "\n",
        "plt.figure(figsize=(5,5))\n",
        "plt.plot([0,1],[0,1],label=\"한글 테스트용\")\n",
        "plt.legend()\n",
        "plt.show()"
      ],
      "execution_count": 14,
      "outputs": [
        {
          "output_type": "stream",
          "text": [
            "fonts-nanum is already the newest version (20170925-1).\n",
            "0 upgraded, 0 newly installed, 0 to remove and 14 not upgraded.\n"
          ],
          "name": "stdout"
        },
        {
          "output_type": "display_data",
          "data": {
            "image/png": "[encoded data removed]",
            "text/plain": [
              "<Figure size 360x360 with 1 Axes>"
            ]
          },
          "metadata": {
            "tags": [],
            "image/png": {
              "width": 315,
              "height": 304
            },
            "needs_background": "light"
          }
        }
      ]
    },
    {
      "cell_type": "markdown",
      "metadata": {
        "id": "kdqYaPSfGIvm"
      },
      "source": [
        "👉 위 코드를 실행하면 plot의 한글이 깨져서 나올 것입니다.   \n",
        "👉 이제 상탄의 <런타임> - <런타임 다시 실행> 버튼을 누르고, 위의 코드를 다시 실행해 주세요.   \n",
        "👉 '한글 테스트용'이라는 글씨가 제대로 프린트되었으면, 아래 실습을 진행해 나가시면 됩니다.   "
      ]
    },
    {
      "cell_type": "markdown",
      "metadata": {
        "id": "Wu1g0F0iGlsS"
      },
      "source": [
        "필요한 라이브러리 설치 및 로딩"
      ]
    },
    {
      "cell_type": "code",
      "metadata": {
        "id": "Gka7sboEpc4Q",
        "colab": {
          "base_uri": "https://localhost:8080/"
        },
        "outputId": "eab35037-0269-498a-ec5e-17d0f828fe35"
      },
      "source": [
        "# 한국어 형태소 분석기 설치\n",
        "!pip install konlpy\n",
        "\n",
        "import tensorflow as tf\n",
        "from tensorflow.keras import Model\n",
        "from tensorflow.keras import layers\n",
        "\n",
        "import numpy as np\n",
        "import konlpy\n",
        "import matplotlib.pyplot as plt\n",
        "import matplotlib.ticker as ticker\n",
        "from sklearn.model_selection import train_test_split\n",
        "\n",
        "import unicodedata\n",
        "import re\n",
        "import numpy as np\n",
        "import os\n",
        "import io\n",
        "import time"
      ],
      "execution_count": 15,
      "outputs": [
        {
          "output_type": "stream",
          "text": [
            "Requirement already satisfied: konlpy in /usr/local/lib/python3.6/dist-packages (0.5.2)\n",
            "Requirement already satisfied: colorama in /usr/local/lib/python3.6/dist-packages (from konlpy) (0.4.4)\n",
            "Requirement already satisfied: tweepy>=3.7.0 in /usr/local/lib/python3.6/dist-packages (from konlpy) (3.9.0)\n",
            "Requirement already satisfied: beautifulsoup4==4.6.0 in /usr/local/lib/python3.6/dist-packages (from konlpy) (4.6.0)\n",
            "Requirement already satisfied: lxml>=4.1.0 in /usr/local/lib/python3.6/dist-packages (from konlpy) (4.2.6)\n",
            "Requirement already satisfied: JPype1>=0.7.0 in /usr/local/lib/python3.6/dist-packages (from konlpy) (1.1.2)\n",
            "Requirement already satisfied: numpy>=1.6 in /usr/local/lib/python3.6/dist-packages (from konlpy) (1.18.5)\n",
            "Requirement already satisfied: requests[socks]>=2.11.1 in /usr/local/lib/python3.6/dist-packages (from tweepy>=3.7.0->konlpy) (2.23.0)\n",
            "Requirement already satisfied: requests-oauthlib>=0.7.0 in /usr/local/lib/python3.6/dist-packages (from tweepy>=3.7.0->konlpy) (1.3.0)\n",
            "Requirement already satisfied: six>=1.10.0 in /usr/local/lib/python3.6/dist-packages (from tweepy>=3.7.0->konlpy) (1.15.0)\n",
            "Requirement already satisfied: typing-extensions; python_version < \"3.8\" in /usr/local/lib/python3.6/dist-packages (from JPype1>=0.7.0->konlpy) (3.7.4.3)\n",
            "Requirement already satisfied: certifi>=2017.4.17 in /usr/local/lib/python3.6/dist-packages (from requests[socks]>=2.11.1->tweepy>=3.7.0->konlpy) (2020.11.8)\n",
            "Requirement already satisfied: chardet<4,>=3.0.2 in /usr/local/lib/python3.6/dist-packages (from requests[socks]>=2.11.1->tweepy>=3.7.0->konlpy) (3.0.4)\n",
            "Requirement already satisfied: urllib3!=1.25.0,!=1.25.1,<1.26,>=1.21.1 in /usr/local/lib/python3.6/dist-packages (from requests[socks]>=2.11.1->tweepy>=3.7.0->konlpy) (1.24.3)\n",
            "Requirement already satisfied: idna<3,>=2.5 in /usr/local/lib/python3.6/dist-packages (from requests[socks]>=2.11.1->tweepy>=3.7.0->konlpy) (2.10)\n",
            "Requirement already satisfied: PySocks!=1.5.7,>=1.5.6; extra == \"socks\" in /usr/local/lib/python3.6/dist-packages (from requests[socks]>=2.11.1->tweepy>=3.7.0->konlpy) (1.7.1)\n",
            "Requirement already satisfied: oauthlib>=3.0.0 in /usr/local/lib/python3.6/dist-packages (from requests-oauthlib>=0.7.0->tweepy>=3.7.0->konlpy) (3.1.0)\n"
          ],
          "name": "stdout"
        }
      ]
    },
    {
      "cell_type": "markdown",
      "metadata": {
        "id": "_TW--kgelNpe"
      },
      "source": [
        "## #2. 데이터 준비하기"
      ]
    },
    {
      "cell_type": "markdown",
      "metadata": {
        "id": "bdkJG00HlRjP"
      },
      "source": [
        "### Step 1. 데이터셋 다운로드 & 로딩   \n",
        "번역 모델 학습에는 첫 번째 날에 AI HUB에서 신청한 한영 번역 말뭉치를 사용합니다.   \n",
        "홈페이지에서 다운받은 엑셀 파일을 Colab 환경에 업로드해주세요.   \n",
        "엑셀 파일이 용량이 커서 업로드에 시간이 소요될 수 있습니다.   "
      ]
    },
    {
      "cell_type": "code",
      "metadata": {
        "id": "woU81dGpxbE-",
        "colab": {
          "base_uri": "https://localhost:8080/",
          "height": 606
        },
        "outputId": "b914aecd-1b08-4e27-9f1b-956a20094b38"
      },
      "source": [
        "## 엑셀 파일 읽어오기\n",
        "path_to_file = \"/content/2_대화체_200226.xlsx\"\n",
        "\n",
        "import pandas as pd\n",
        "data = pd.read_excel(path_to_file)\n",
        "\n",
        "data"
      ],
      "execution_count": 17,
      "outputs": [
        {
          "output_type": "execute_result",
          "data": {
            "text/html": [
              "<div>\n",
              "<style scoped>\n",
              "    .dataframe tbody tr th:only-of-type {\n",
              "        vertical-align: middle;\n",
              "    }\n",
              "\n",
              "    .dataframe tbody tr th {\n",
              "        vertical-align: top;\n",
              "    }\n",
              "\n",
              "    .dataframe thead th {\n",
              "        text-align: right;\n",
              "    }\n",
              "</style>\n",
              "<table border=\"1\" class=\"dataframe\">\n",
              "  <thead>\n",
              "    <tr style=\"text-align: right;\">\n",
              "      <th></th>\n",
              "      <th>대분류</th>\n",
              "      <th>소분류</th>\n",
              "      <th>상황</th>\n",
              "      <th>Set Nr.</th>\n",
              "      <th>발화자</th>\n",
              "      <th>원문</th>\n",
              "      <th>번역문</th>\n",
              "    </tr>\n",
              "  </thead>\n",
              "  <tbody>\n",
              "    <tr>\n",
              "      <th>0</th>\n",
              "      <td>비즈니스</td>\n",
              "      <td>회의</td>\n",
              "      <td>의견 교환하기</td>\n",
              "      <td>1</td>\n",
              "      <td>A-1</td>\n",
              "      <td>이번 신제품 출시에 대한 시장의 반응은 어떤가요?</td>\n",
              "      <td>How is the market's reaction to the newly rele...</td>\n",
              "    </tr>\n",
              "    <tr>\n",
              "      <th>1</th>\n",
              "      <td>비즈니스</td>\n",
              "      <td>회의</td>\n",
              "      <td>의견 교환하기</td>\n",
              "      <td>1</td>\n",
              "      <td>B-1</td>\n",
              "      <td>판매량이 지난번 제품보다 빠르게 늘고 있습니다.</td>\n",
              "      <td>The sales increase is faster than the previous...</td>\n",
              "    </tr>\n",
              "    <tr>\n",
              "      <th>2</th>\n",
              "      <td>비즈니스</td>\n",
              "      <td>회의</td>\n",
              "      <td>의견 교환하기</td>\n",
              "      <td>1</td>\n",
              "      <td>A-2</td>\n",
              "      <td>그렇다면 공장에 연락해서 주문량을 더 늘려야겠네요.</td>\n",
              "      <td>Then, we'll have to call the manufacturer and ...</td>\n",
              "    </tr>\n",
              "    <tr>\n",
              "      <th>3</th>\n",
              "      <td>비즈니스</td>\n",
              "      <td>회의</td>\n",
              "      <td>의견 교환하기</td>\n",
              "      <td>1</td>\n",
              "      <td>B-2</td>\n",
              "      <td>네, 제가 연락해서 주문량을 2배로 늘리겠습니다.</td>\n",
              "      <td>Sure, I'll make a call and double the volume o...</td>\n",
              "    </tr>\n",
              "    <tr>\n",
              "      <th>4</th>\n",
              "      <td>비즈니스</td>\n",
              "      <td>회의</td>\n",
              "      <td>의견 교환하기</td>\n",
              "      <td>2</td>\n",
              "      <td>A-1</td>\n",
              "      <td>지난 회의 마지막에 논의했던 안건을 다시 볼까요?</td>\n",
              "      <td>Shall we take a look at the issues we discusse...</td>\n",
              "    </tr>\n",
              "    <tr>\n",
              "      <th>...</th>\n",
              "      <td>...</td>\n",
              "      <td>...</td>\n",
              "      <td>...</td>\n",
              "      <td>...</td>\n",
              "      <td>...</td>\n",
              "      <td>...</td>\n",
              "      <td>...</td>\n",
              "    </tr>\n",
              "    <tr>\n",
              "      <th>99995</th>\n",
              "      <td>여행/쇼핑</td>\n",
              "      <td>쇼핑</td>\n",
              "      <td>계산/포장/배달 (계산 장소 문의, 계산 오류 등)</td>\n",
              "      <td>24999</td>\n",
              "      <td>B-2</td>\n",
              "      <td>저희가 가격표 배치를 잘못해서 혼동을 드렸나 봐요, 죄송해요.</td>\n",
              "      <td>It seems that we didn't place the price tags c...</td>\n",
              "    </tr>\n",
              "    <tr>\n",
              "      <th>99996</th>\n",
              "      <td>여행/쇼핑</td>\n",
              "      <td>쇼핑</td>\n",
              "      <td>계산/포장/배달 (계산 장소 문의, 계산 오류 등)</td>\n",
              "      <td>25000</td>\n",
              "      <td>A-1</td>\n",
              "      <td>백화점 포인트로 계산하고 싶은데, 가능한가요?</td>\n",
              "      <td>Can I pay using the department store points?</td>\n",
              "    </tr>\n",
              "    <tr>\n",
              "      <th>99997</th>\n",
              "      <td>여행/쇼핑</td>\n",
              "      <td>쇼핑</td>\n",
              "      <td>계산/포장/배달 (계산 장소 문의, 계산 오류 등)</td>\n",
              "      <td>25000</td>\n",
              "      <td>B-1</td>\n",
              "      <td>네, 물론이죠, 전화번호 입력해주시면 됩니다.</td>\n",
              "      <td>Yes, of course, you just need to enter your ph...</td>\n",
              "    </tr>\n",
              "    <tr>\n",
              "      <th>99998</th>\n",
              "      <td>여행/쇼핑</td>\n",
              "      <td>쇼핑</td>\n",
              "      <td>계산/포장/배달 (계산 장소 문의, 계산 오류 등)</td>\n",
              "      <td>25000</td>\n",
              "      <td>A-2</td>\n",
              "      <td>입력했어요, 전액 백화점 포인트로 결제하고 싶어요.</td>\n",
              "      <td>I entered it, I want to pay it with all the de...</td>\n",
              "    </tr>\n",
              "    <tr>\n",
              "      <th>99999</th>\n",
              "      <td>여행/쇼핑</td>\n",
              "      <td>쇼핑</td>\n",
              "      <td>계산/포장/배달 (계산 장소 문의, 계산 오류 등)</td>\n",
              "      <td>25000</td>\n",
              "      <td>B-2</td>\n",
              "      <td>죄송하지만 포인트 제외한 차액 15,000원은 따로 결제해주셔야 합니다.</td>\n",
              "      <td>I'm sorry, but you need to make a separate pay...</td>\n",
              "    </tr>\n",
              "  </tbody>\n",
              "</table>\n",
              "<p>100000 rows × 7 columns</p>\n",
              "</div>"
            ],
            "text/plain": [
              "         대분류  ...                                                번역문\n",
              "0       비즈니스  ...  How is the market's reaction to the newly rele...\n",
              "1       비즈니스  ...  The sales increase is faster than the previous...\n",
              "2       비즈니스  ...  Then, we'll have to call the manufacturer and ...\n",
              "3       비즈니스  ...  Sure, I'll make a call and double the volume o...\n",
              "4       비즈니스  ...  Shall we take a look at the issues we discusse...\n",
              "...      ...  ...                                                ...\n",
              "99995  여행/쇼핑  ...  It seems that we didn't place the price tags c...\n",
              "99996  여행/쇼핑  ...       Can I pay using the department store points?\n",
              "99997  여행/쇼핑  ...  Yes, of course, you just need to enter your ph...\n",
              "99998  여행/쇼핑  ...  I entered it, I want to pay it with all the de...\n",
              "99999  여행/쇼핑  ...  I'm sorry, but you need to make a separate pay...\n",
              "\n",
              "[100000 rows x 7 columns]"
            ]
          },
          "metadata": {
            "tags": []
          },
          "execution_count": 17
        }
      ]
    },
    {
      "cell_type": "markdown",
      "metadata": {
        "id": "C739a7QhJcl1"
      },
      "source": [
        "👉 총 10만건의 한국어-영어 병렬 코퍼스가 들어있는 것을 확인할 수 있습니다.   \n",
        "👉 <원문>과 <번역문> 컬럼에 들어있는 문장을 가지고 와서 데이터를 구성하겠습니다. "
      ]
    },
    {
      "cell_type": "markdown",
      "metadata": {
        "id": "1ty7mIC2X15L"
      },
      "source": [
        "\n",
        "<img src = \"https://github.com/seungyounglim/temporary/blob/master/fig_step1.PNG?raw=true\">   \n"
      ]
    },
    {
      "cell_type": "code",
      "metadata": {
        "id": "-8T4Qp4dt6Td",
        "colab": {
          "base_uri": "https://localhost:8080/",
          "height": 35
        },
        "outputId": "bcce8a37-e666-4bde-d69c-3b681c2278a4"
      },
      "source": [
        "## 한국어의 경우, 띄어쓰기가 아닌 형태소 단위로 분리하는 것이 좋음\n",
        "from konlpy.tag import Komoran\n",
        "kmr=Komoran()\n",
        "\n",
        "def kor_tokenizer(lines):\n",
        "  return \" \".join([pos[0] for pos in kmr.pos(lines)])\n",
        "kor_tokenizer(\"문장을 형태소단위로 나눠서 번역하기\")"
      ],
      "execution_count": 18,
      "outputs": [
        {
          "output_type": "execute_result",
          "data": {
            "application/vnd.google.colaboratory.intrinsic+json": {
              "type": "string"
            },
            "text/plain": [
              "'문장 을 형태소 단위 로 나누 어서 번역 하 기'"
            ]
          },
          "metadata": {
            "tags": []
          },
          "execution_count": 18
        }
      ]
    },
    {
      "cell_type": "markdown",
      "metadata": {
        "id": "aWINsNOSNtVa"
      },
      "source": [
        "기계번역도 마찬가지로 토크나이징-인코딩-토큰임베딩-모델링 과정을 진행하면 되는데요,   \n",
        "데이터셋 전처리 부분은 미리 코딩을 해 두었으니 attention_codes.py 파일을 업로드하여 사용하시면 됩니다.   "
      ]
    },
    {
      "cell_type": "code",
      "metadata": {
        "id": "5NjBMGO9EOFq"
      },
      "source": [
        "from attention_codes import *"
      ],
      "execution_count": 20,
      "outputs": []
    },
    {
      "cell_type": "markdown",
      "metadata": {
        "id": "3ZfSVYJ6KCWT"
      },
      "source": [
        "먼저 한국어는 형태소 분석을 진행하여 SOURCE, 영어는 띄어쓰기 단위를 그대로 사용해 TARGET에 불러옵니다.   \n",
        "이때 번역에서 문장의 시작과 끝을 알려주기 위해 원본과 번역문 문장 앞뒤에 각각 <start> <end>라는 스페셜 토큰을 추가하였습니다. "
      ]
    },
    {
      "cell_type": "code",
      "metadata": {
        "id": "VU7InCGEhTwj",
        "colab": {
          "base_uri": "https://localhost:8080/"
        },
        "outputId": "8f1cbd61-df1e-4b0a-90ba-72db7f6cf660"
      },
      "source": [
        "SOURCE, TARGET = create_dataset(path_to_file, kor_tokenizer)\n",
        "print(\"데이터 개수:\", len(SOURCE), len(TARGET))\n",
        "print(SOURCE[-1])\n",
        "print(TARGET[-1])"
      ],
      "execution_count": 21,
      "outputs": [
        {
          "output_type": "stream",
          "text": [
            "100%|██████████| 100000/100000 [00:50<00:00, 1983.67it/s]"
          ],
          "name": "stderr"
        },
        {
          "output_type": "stream",
          "text": [
            "데이터 개수: 100000 100000\n",
            "<start> 죄송 하 지만 포인트 제외 하 ㄴ 차액 15 , 000 원 은 따로 결제 하 아 주 시 어야 하 ㅂ니다 . <end>\n",
            "<start> I'm sorry, but you need to make a separate payment of 15,000 won, excluding the department store points. <end>\n"
          ],
          "name": "stdout"
        },
        {
          "output_type": "stream",
          "text": [
            "\n"
          ],
          "name": "stderr"
        }
      ]
    },
    {
      "cell_type": "markdown",
      "metadata": {
        "id": "Y1POcWublcKe"
      },
      "source": [
        "### Step 2. 토크나이징   \n",
        "<img src = \"https://github.com/seungyounglim/temporary/blob/master/fig_step2.PNG?raw=true\">   \n",
        "\n",
        "단어사전을 만들어 토큰화된 단어를 인코딩하는 부분도 attention_codes 내에 미리 코딩해둔 함수를 사용하겠습니다.  \n"
      ]
    },
    {
      "cell_type": "code",
      "metadata": {
        "id": "N_YzSGZNhq3u",
        "colab": {
          "base_uri": "https://localhost:8080/"
        },
        "outputId": "09fda3aa-ca4f-49d3-d944-1ba36bf5d1ab"
      },
      "source": [
        "## 데이터 불러오기\n",
        "## inp_lang: Source(한국어) tokenizer\n",
        "## targ_lang: Target(영어) tokenizer\n",
        "\n",
        "input_tensor, target_tensor, inp_lang, targ_lang = load_dataset(SOURCE, TARGET)\n",
        "\n",
        "# 최대 길이 구하기\n",
        "max_length_targ, max_length_inp = target_tensor.shape[1], input_tensor.shape[1]\n",
        "\n",
        "print(\"인풋 최대 길이:\", max_length_inp)\n",
        "print(\"타켓 최대 길이:\", max_length_targ)"
      ],
      "execution_count": 22,
      "outputs": [
        {
          "output_type": "stream",
          "text": [
            "인풋 최대 길이: 88\n",
            "타켓 최대 길이: 64\n"
          ],
          "name": "stdout"
        }
      ]
    },
    {
      "cell_type": "markdown",
      "metadata": {
        "id": "LmUWxs2RKfTX"
      },
      "source": [
        "👉 input_tensor에는 한국어 문장, target_tensor에는 영어 문장이 각각의 단어사전으로 인코딩되어 들어있습니다.   \n",
        "👉 인풋 한국어는 최대 88 토큰, 타겟 영어는 최대 64토큰을 가지고 있습니다.   \n",
        "👉 꽤 긴 문장도 포함되어 있는 것이지요.   \n"
      ]
    },
    {
      "cell_type": "code",
      "metadata": {
        "id": "7EXTUo-gwmdG",
        "colab": {
          "base_uri": "https://localhost:8080/"
        },
        "outputId": "1b696640-ea20-4463-f87b-825a51e198d6"
      },
      "source": [
        "## 인풋 예시\n",
        "print(input_tensor[0])"
      ],
      "execution_count": 23,
      "outputs": [
        {
          "output_type": "stream",
          "text": [
            "[   2   95  793  683    7  247   12  837   57 1093   17   66   55    3\n",
            "    0    0    0    0    0    0    0    0    0    0    0    0    0    0\n",
            "    0    0    0    0    0    0    0    0    0    0    0    0    0    0\n",
            "    0    0    0    0    0    0    0    0    0    0    0    0    0    0\n",
            "    0    0    0    0    0    0    0    0    0    0    0    0    0    0\n",
            "    0    0    0    0    0    0    0    0    0    0    0    0    0    0\n",
            "    0    0    0    0]\n"
          ],
          "name": "stdout"
        }
      ]
    },
    {
      "cell_type": "code",
      "metadata": {
        "id": "yDdwCJbzwqf6",
        "colab": {
          "base_uri": "https://localhost:8080/"
        },
        "outputId": "0e3549e2-602a-4962-ebc7-d8504b47034a"
      },
      "source": [
        "## 타겟 예시\n",
        "print(target_tensor[0])"
      ],
      "execution_count": 24,
      "outputs": [
        {
          "output_type": "stream",
          "text": [
            "[    2    49    10     4 11345  2223     6     4  1270   749    94     3\n",
            "     0     0     0     0     0     0     0     0     0     0     0     0\n",
            "     0     0     0     0     0     0     0     0     0     0     0     0\n",
            "     0     0     0     0     0     0     0     0     0     0     0     0\n",
            "     0     0     0     0     0     0     0     0     0     0     0     0\n",
            "     0     0     0     0]\n"
          ],
          "name": "stdout"
        }
      ]
    },
    {
      "cell_type": "markdown",
      "metadata": {
        "id": "l6wZqPRbK0WW"
      },
      "source": [
        "👉 숫자는 비슷해 보이지만, 사실 input과 target은 각각  <한국어 단어사전>과 <영어 단어사전>을 사용해 인코딩한 결과입니다.   \n",
        "👉 모델도 각기 다른 임베딩을 사용해 이 토큰들을 인식하게 됩니다.   "
      ]
    },
    {
      "cell_type": "markdown",
      "metadata": {
        "id": "0NA980Mas2M5"
      },
      "source": [
        "### Step 3. 학습-검증 데이터 나누기\n",
        "학습을 위해 10만개의 문장을 각각 90000 - 10000개에 해당하는 학습/ 검증 데이터로 나누었습니다. "
      ]
    },
    {
      "cell_type": "code",
      "metadata": {
        "id": "l5NNxQXThtma",
        "colab": {
          "base_uri": "https://localhost:8080/"
        },
        "outputId": "4e054c30-746e-4051-87ae-233e781be2e5"
      },
      "source": [
        "# 8:2로 학습 - 검증 데이터 나누기\n",
        "input_tensor_train, input_tensor_val, target_tensor_train, target_tensor_val = train_test_split(input_tensor, target_tensor, test_size=0.1, random_state=2020)\n",
        "\n",
        "# Show length\n",
        "print(len(input_tensor_train), len(target_tensor_train), len(input_tensor_val), len(target_tensor_val))"
      ],
      "execution_count": 25,
      "outputs": [
        {
          "output_type": "stream",
          "text": [
            "90000 90000 10000 10000\n"
          ],
          "name": "stdout"
        }
      ]
    },
    {
      "cell_type": "markdown",
      "metadata": {
        "id": "jcu_PteUMRS7"
      },
      "source": [
        "(참고) 인덱스가 잘 만들어졌는지 확인해보기   \n",
        "학습셋으로 나누어진 것에 대해 어떤 태스크를 수행하게 될지 한 번 확인해보겠습니다. "
      ]
    },
    {
      "cell_type": "code",
      "metadata": {
        "id": "W9SL3nj1hz_p"
      },
      "source": [
        "def convert(lang, tensor):\n",
        "  for t in tensor:\n",
        "    if t!=0:\n",
        "      print (\"%d ----> %s\" % (t, lang.index_word[t]))"
      ],
      "execution_count": 26,
      "outputs": []
    },
    {
      "cell_type": "code",
      "metadata": {
        "id": "rNAvBE6PsveO",
        "colab": {
          "base_uri": "https://localhost:8080/"
        },
        "outputId": "a4f0fde9-3083-443d-b872-df8317366510"
      },
      "source": [
        "print (\"인풋 문장 예시 :\")\n",
        "convert(inp_lang, input_tensor_train[0])\n",
        "print ()\n",
        "print (\"타겟 문장 예시 :\")\n",
        "convert(targ_lang, target_tensor_train[0])"
      ],
      "execution_count": 27,
      "outputs": [
        {
          "output_type": "stream",
          "text": [
            "인풋 문장 예시 :\n",
            "2 ----> <start>\n",
            "273 ----> 얼마\n",
            "143 ----> 전\n",
            "227 ----> 카드\n",
            "956 ----> 기계\n",
            "9 ----> 가\n",
            "765 ----> 고장\n",
            "5 ----> 이\n",
            "558 ----> 나서\n",
            "15 ----> 어\n",
            "384 ----> 현재\n",
            "715 ----> 수리\n",
            "141 ----> 중\n",
            "5 ----> 이\n",
            "19 ----> 어요\n",
            "3 ----> <end>\n",
            "\n",
            "타겟 문장 예시 :\n",
            "2 ----> <start>\n",
            "30 ----> my\n",
            "144 ----> card\n",
            "608 ----> machine\n",
            "1459 ----> broke\n",
            "228 ----> down\n",
            "8 ----> a\n",
            "377 ----> few\n",
            "143 ----> days\n",
            "309 ----> ago\n",
            "12 ----> so\n",
            "38 ----> i'm\n",
            "6707 ----> repairing\n",
            "9 ----> it\n",
            "3 ----> <end>\n"
          ],
          "name": "stdout"
        }
      ]
    },
    {
      "cell_type": "markdown",
      "metadata": {
        "id": "xMkqREhzLrKi"
      },
      "source": [
        "## #3. 모델 만들기"
      ]
    },
    {
      "cell_type": "markdown",
      "metadata": {
        "id": "oMgx76kPLvYE"
      },
      "source": [
        "### Step1. 데이터셋 API 사용하기\n",
        "이번 실습에서는 TensorFlow의 Lower level API를 사용하기 위해 tf.data.Dataset API를 사용해 데이터를 준비할 것입니다.   \n",
        "기존에 numpy array를 모델에 넣었던 것을 이번에는 Dataset 형태로 넣는 것이라고 생각하시면 됩니다.   "
      ]
    },
    {
      "cell_type": "code",
      "metadata": {
        "id": "YL1Smf5Wsvyf"
      },
      "source": [
        "BUFFER_SIZE = len(input_tensor_train)\n",
        "BATCH_SIZE = 32\n",
        "steps_per_epoch = len(input_tensor_train)//BATCH_SIZE\n",
        "vocab_inp_size = len(inp_lang.word_index)+1 # for [PAD]\n",
        "vocab_tar_size = len(targ_lang.word_index)+1\n",
        "\n",
        "dataset = tf.data.Dataset.from_tensor_slices((input_tensor_train, target_tensor_train)).shuffle(BUFFER_SIZE)\n",
        "dataset = dataset.batch(BATCH_SIZE, drop_remainder=True)"
      ],
      "execution_count": 28,
      "outputs": []
    },
    {
      "cell_type": "code",
      "metadata": {
        "id": "rj7N206Flxt6",
        "colab": {
          "base_uri": "https://localhost:8080/"
        },
        "outputId": "c7efbaf2-28af-4024-e1a1-af9bc8794979"
      },
      "source": [
        "print(\"인풋 단어사전 크기:\", vocab_inp_size)\n",
        "print(\"타겟 단어사전 크기:\", vocab_tar_size)"
      ],
      "execution_count": 29,
      "outputs": [
        {
          "output_type": "stream",
          "text": [
            "인풋 단어사전 크기: 16791\n",
            "타겟 단어사전 크기: 16818\n"
          ],
          "name": "stdout"
        }
      ]
    },
    {
      "cell_type": "markdown",
      "metadata": {
        "id": "aSP8BC0ahrzp"
      },
      "source": [
        "### Step2. 모델 하이퍼파라미터 설정하기\n",
        "인코더-디코더 모델에서 사용할 하이퍼 파라미터를 설정하겠습니다.   \n",
        "한 층의 GRU 레이어를 인코더/디코더에서 사용하고, hidden_state 크기는 둘 다 512로 설정합니다.   \n",
        "토큰임베딩 차원은 한국어/ 영어 모두 256차원으로 설정하겠습니다.   "
      ]
    },
    {
      "cell_type": "code",
      "metadata": {
        "id": "BXYTaR4PhwiJ"
      },
      "source": [
        "embedding_dim = 256 # 토큰 임베딩 차원\n",
        "units = 512 # GRU 히든 차원"
      ],
      "execution_count": 30,
      "outputs": []
    },
    {
      "cell_type": "markdown",
      "metadata": {
        "id": "duZgcTLCtG2q"
      },
      "source": [
        "### Step 3. Encoder-Decoder 모델 만들기\n",
        "\n",
        "<img src = \"https://github.com/seungyounglim/temporary/blob/master/fig_step3+4.PNG?raw=true\">\n",
        "\n",
        "\n",
        "\n"
      ]
    },
    {
      "cell_type": "markdown",
      "metadata": {
        "id": "Mn-95YDxMjTs"
      },
      "source": [
        "이제 Enoder와 Decoder, 그리고 Attention Layer를 통해 기계번역 모델 구조를 만들겠습니다.     \n",
        "\n",
        "모든 Layer들은 attention_cods.py에 코딩되어 있고, 주석이 달려 있습니다.   \n",
        "원하시는 분들은 주석과 Wire 페이지의 그림을 참고해 보셔도 좋고,    \n",
        "바로 레이어를 호출에 실습을 진행하셔도 좋습니다 :)"
      ]
    },
    {
      "cell_type": "markdown",
      "metadata": {
        "id": "dAkZeocen4Cg"
      },
      "source": [
        "**ENCODER**"
      ]
    },
    {
      "cell_type": "code",
      "metadata": {
        "id": "jqBUEv2ztKHj",
        "colab": {
          "base_uri": "https://localhost:8080/"
        },
        "outputId": "727511c4-3ce2-4172-b043-52ba2350af91"
      },
      "source": [
        "# Encoder: Source 단어사전크기, 임베딩 크기, GRU 히든 사이즈, 배치 사이즈를 받아 초기화\n",
        "encoder = Encoder(vocab_inp_size, embedding_dim, units, BATCH_SIZE)\n",
        "\n",
        "# sample input\n",
        "example_input_batch = next(dataset.as_numpy_iterator())[0]\n",
        "sample_hidden = encoder.initialize_hidden_state()\n",
        "sample_output, sample_hidden = encoder(example_input_batch, sample_hidden) # 인풋 문장, 초기화된 첫 번째 히든\n",
        "print ('인코더 아웃풋 차원: (batch size, sequence length, units) {}'.format(sample_output.shape))\n",
        "print ('인코더 히든 차원 : (batch size, units) {}'.format(sample_hidden.shape))"
      ],
      "execution_count": 31,
      "outputs": [
        {
          "output_type": "stream",
          "text": [
            "인코더 아웃풋 차원: (batch size, sequence length, units) (32, 88, 512)\n",
            "인코더 히든 차원 : (batch size, units) (32, 512)\n"
          ],
          "name": "stdout"
        }
      ]
    },
    {
      "cell_type": "markdown",
      "metadata": {
        "id": "AyAynqMYO3QW"
      },
      "source": [
        "**Attention Layer**"
      ]
    },
    {
      "cell_type": "code",
      "metadata": {
        "id": "oJqJhHx1tMgZ",
        "colab": {
          "base_uri": "https://localhost:8080/"
        },
        "outputId": "b55be9a8-fb92-4d5a-a0bb-4e737bdd5ef1"
      },
      "source": [
        "\"\"\"\n",
        "인풋 시퀀스 길이 = 88\n",
        "\"\"\"\n",
        "\n",
        "attention_layer = BahdanauAttention(10) # 바다나우 attention에서 사용할 Hidden Unit 크기 설정\n",
        "attention_result, attention_weights = attention_layer(sample_hidden, sample_output) \n",
        "\n",
        "print(\"Attention result shape: (batch size, units) {}\".format(attention_result.shape))\n",
        "print(\"Attention weights shape: (batch_size, sequence_length, 1) {}\".format(attention_weights.shape))"
      ],
      "execution_count": 32,
      "outputs": [
        {
          "output_type": "stream",
          "text": [
            "Attention result shape: (batch size, units) (32, 512)\n",
            "Attention weights shape: (batch_size, sequence_length, 1) (32, 88, 1)\n"
          ],
          "name": "stdout"
        }
      ]
    },
    {
      "cell_type": "markdown",
      "metadata": {
        "id": "FnjwaHWjFH2z"
      },
      "source": [
        "**DECODER**"
      ]
    },
    {
      "cell_type": "code",
      "metadata": {
        "id": "Uc0GNaeMtOj4",
        "colab": {
          "base_uri": "https://localhost:8080/"
        },
        "outputId": "e3677079-7817-445a-d25d-81300291ab98"
      },
      "source": [
        "decoder = Decoder(vocab_tar_size, embedding_dim, units, BATCH_SIZE)\n",
        "\n",
        "sample_decoder_output, _, _ = decoder(tf.random.uniform((BATCH_SIZE, 1)), #이번 스텝에 처리할 토큰\n",
        "                                      sample_hidden, # 디코더 이전 스텝의 hidden 벡터\n",
        "                                      sample_output) # attention을 통해 정보를 가지고 올 hidden 벡터들\n",
        "\n",
        "print ('Decoder output shape: (batch_size, vocab size) {}'.format(sample_decoder_output.shape))"
      ],
      "execution_count": 33,
      "outputs": [
        {
          "output_type": "stream",
          "text": [
            "Decoder output shape: (batch_size, vocab size) (32, 16818)\n"
          ],
          "name": "stdout"
        }
      ]
    },
    {
      "cell_type": "markdown",
      "metadata": {
        "id": "Cf4xDYb4PtPt"
      },
      "source": [
        "### Step 4.  모델 컴파일하기\n",
        "모델 컴파일을 위해 Loss와 Optimizer를 정의해야 합니다.   \n",
        "[PAD]를 제외한 모든 디코딩 타임스텝의 loss를 더한 것을 Loss로 정의하는데요,    \n",
        "이 부분을 코딩하여 loss_function으로 커스터마이즈하여 학습에 사용합니다.   "
      ]
    },
    {
      "cell_type": "code",
      "metadata": {
        "id": "zGu7yywWtQMJ"
      },
      "source": [
        "optimizer = tf.keras.optimizers.Adam()\n",
        "loss_object = tf.keras.losses.SparseCategoricalCrossentropy(\n",
        "    from_logits=True, reduction='none')\n",
        "\n",
        "def loss_function(real, pred):\n",
        "\n",
        "  # padding한 부분은 back-propagation이 되지 않게 마스크를 씌워줌.\n",
        "  mask = tf.math.logical_not(tf.math.equal(real, 0))\n",
        "  loss_ = loss_object(real, pred)\n",
        "\n",
        "  mask = tf.cast(mask, dtype=loss_.dtype)\n",
        "  loss_ *= mask\n",
        "\n",
        "  return tf.reduce_mean(loss_)"
      ],
      "execution_count": 34,
      "outputs": []
    },
    {
      "cell_type": "code",
      "metadata": {
        "id": "kkzQklVStWP2"
      },
      "source": [
        "## 학습된 모델을 저장할 디렉토리 설정\n",
        "checkpoint_dir = \"/content/gdrive/My Drive/NLP/train_attention\"\n",
        "checkpoint_prefix = os.path.join(checkpoint_dir, \"ckpt\")\n",
        "checkpoint = tf.train.Checkpoint(optimizer=optimizer,\n",
        "                                 encoder=encoder,\n",
        "                                 decoder=decoder)"
      ],
      "execution_count": 36,
      "outputs": []
    },
    {
      "cell_type": "markdown",
      "metadata": {
        "id": "yS0VYCtItZS0"
      },
      "source": [
        "### Step 5. 학습하기\n",
        "이제 데이터셋과 모델을 준비했으니 학습을 진행하면 됩니다.   \n",
        "이론에서 공부한 것과 같이 학습에는 teacher forcing 알고리즘을 사용합니다.   \n",
        "이 부분을 코딩한 것이 아래의 train_step 함수입니다.   "
      ]
    },
    {
      "cell_type": "code",
      "metadata": {
        "id": "8b-UOsUIMbIg"
      },
      "source": [
        "## 학습용 코드\n",
        "@tf.function\n",
        "def train_step(inp, targ, enc_hidden):\n",
        "  loss = 0\n",
        "\n",
        "  with tf.GradientTape() as tape:\n",
        "    enc_output, enc_hidden = encoder(inp, enc_hidden)\n",
        "\n",
        "    dec_hidden = enc_hidden\n",
        "\n",
        "    # tip: 디코딩 시작 토큰은 \"<start>\"이기 때문에, 첫 번째 토큰은 이것을 넣어줌\n",
        "    dec_input = tf.expand_dims([targ_lang.word_index['<start>']] * BATCH_SIZE, 1)\n",
        "\n",
        "    # Teacher forcing 알고리즘으로 학습\n",
        "    # : 학습 시에는 디코딩 인풋으로 이전 스텝의 실제 정답을 넣는 것.\n",
        "    for t in range(1, targ.shape[1]):\n",
        "      # passing enc_output to the decoder\n",
        "      predictions, dec_hidden, _ = decoder(dec_input, dec_hidden, enc_output)\n",
        "\n",
        "      loss += loss_function(targ[:, t], predictions)\n",
        "\n",
        "      # using teacher forcing\n",
        "      dec_input = tf.expand_dims(targ[:, t], 1)\n",
        "\n",
        "  # 배치의 loss는 각 sequence 각 토큰의 loss의 합임.\n",
        "  batch_loss = (loss / int(targ.shape[1]))\n",
        "\n",
        "  variables = encoder.trainable_variables + decoder.trainable_variables\n",
        "\n",
        "  gradients = tape.gradient(loss, variables)\n",
        "\n",
        "  optimizer.apply_gradients(zip(gradients, variables))\n",
        "\n",
        "  return batch_loss"
      ],
      "execution_count": 37,
      "outputs": []
    },
    {
      "cell_type": "markdown",
      "metadata": {
        "id": "c2765l1TQWQf"
      },
      "source": [
        "<font color=\"red\"><b> 아래 코드를 실행하지 말아주세요!!</b> </font>\n",
        "\n",
        "인코더-디코더로 이루어진 이 모델을 학습시키는 데에는 약 1시간이 소요됩니다.   \n",
        "RNN이 느린 모델인데, 인풋은 88토큰, 타겟은 64토큰으로 꽤 긴 문장을 처리해야 하기 때문이지요.   \n",
        "따라서 학습 코드를 주석 처리해놓았습니다.   \n",
        "\n",
        "원하시는 분들은 주석을 해제하고 코드를 실행해 보셔도 좋지만,    \n",
        "시간 관계상 제가 학습해둔 체크포인트를 로딩해 inrerence 하는 부분으로 바로 넘어가겠습니다.   "
      ]
    },
    {
      "cell_type": "code",
      "metadata": {
        "id": "7qmK2fu0tcP4",
        "colab": {
          "base_uri": "https://localhost:8080/",
          "height": 1000
        },
        "outputId": "e8832ab3-5efc-4e9f-ea8b-e1f096a4669f"
      },
      "source": [
        "EPOCHS = 10\n",
        "\n",
        "# for epoch in range(EPOCHS):\n",
        "#   start = time.time()\n",
        "\n",
        "#   enc_hidden = encoder.initialize_hidden_state()\n",
        "#   total_loss = 0\n",
        "\n",
        "#   for (batch, (inp, targ)) in enumerate(dataset.take(steps_per_epoch)):\n",
        "#     batch_loss = train_step(inp, targ, enc_hidden)\n",
        "#     total_loss += batch_loss\n",
        "\n",
        "#     if batch % 100 == 0:\n",
        "#       print('Epoch {} Batch {} Loss {:.4f}'.format(epoch + 1,\n",
        "#                                                    batch,\n",
        "#                                                    batch_loss.numpy()))\n",
        "#   # saving (checkpoint) the model every 2 epochs\n",
        "#   if (epoch + 1) % 2 == 0:\n",
        "#     checkpoint.save(file_prefix = checkpoint_prefix)\n",
        "\n",
        "#   print('Epoch {} Loss {:.4f}'.format(epoch + 1,\n",
        "#                                       total_loss / steps_per_epoch))\n",
        "#   print('Time taken for 1 epoch {} sec\\n'.format(time.time() - start))"
      ],
      "execution_count": null,
      "outputs": [
        {
          "output_type": "stream",
          "text": [
            "Epoch 1 Batch 0 Loss 2.0715\n",
            "Epoch 1 Batch 100 Loss 1.3813\n",
            "Epoch 1 Batch 200 Loss 1.2277\n",
            "Epoch 1 Batch 300 Loss 1.2260\n",
            "Epoch 1 Batch 400 Loss 1.1477\n",
            "Epoch 1 Batch 500 Loss 1.1314\n",
            "Epoch 1 Batch 600 Loss 1.2040\n",
            "Epoch 1 Batch 700 Loss 1.1024\n",
            "Epoch 1 Batch 800 Loss 1.1278\n",
            "Epoch 1 Batch 900 Loss 0.9891\n",
            "Epoch 1 Batch 1000 Loss 1.0719\n",
            "Epoch 1 Batch 1100 Loss 1.0742\n",
            "Epoch 1 Batch 1200 Loss 1.0287\n",
            "Epoch 1 Batch 1300 Loss 1.0340\n",
            "Epoch 1 Batch 1400 Loss 0.9667\n",
            "Epoch 1 Loss 1.1462\n",
            "Time taken for 1 epoch 697.2908623218536 sec\n",
            "\n",
            "Epoch 2 Batch 0 Loss 1.0143\n",
            "Epoch 2 Batch 100 Loss 0.9574\n",
            "Epoch 2 Batch 200 Loss 1.0008\n",
            "Epoch 2 Batch 300 Loss 0.9965\n",
            "Epoch 2 Batch 400 Loss 1.0640\n",
            "Epoch 2 Batch 500 Loss 1.0531\n",
            "Epoch 2 Batch 600 Loss 0.9413\n",
            "Epoch 2 Batch 700 Loss 0.8944\n",
            "Epoch 2 Batch 800 Loss 1.0412\n",
            "Epoch 2 Batch 900 Loss 1.0493\n",
            "Epoch 2 Batch 1000 Loss 1.0266\n",
            "Epoch 2 Batch 1100 Loss 0.9405\n",
            "Epoch 2 Batch 1200 Loss 0.9381\n",
            "Epoch 2 Batch 1300 Loss 0.9871\n",
            "Epoch 2 Batch 1400 Loss 0.9420\n",
            "Epoch 2 Loss 0.9889\n",
            "Time taken for 1 epoch 524.3898768424988 sec\n",
            "\n",
            "Epoch 3 Batch 0 Loss 1.0174\n",
            "Epoch 3 Batch 100 Loss 0.8926\n",
            "Epoch 3 Batch 200 Loss 0.9440\n",
            "Epoch 3 Batch 300 Loss 0.9129\n",
            "Epoch 3 Batch 400 Loss 0.9611\n",
            "Epoch 3 Batch 500 Loss 0.9285\n",
            "Epoch 3 Batch 600 Loss 0.9399\n",
            "Epoch 3 Batch 700 Loss 0.9151\n",
            "Epoch 3 Batch 800 Loss 0.9156\n",
            "Epoch 3 Batch 900 Loss 0.9765\n",
            "Epoch 3 Batch 1000 Loss 0.9164\n",
            "Epoch 3 Batch 1100 Loss 0.9356\n",
            "Epoch 3 Batch 1200 Loss 0.9255\n",
            "Epoch 3 Batch 1300 Loss 0.9596\n",
            "Epoch 3 Batch 1400 Loss 0.9242\n",
            "Epoch 3 Loss 0.9185\n",
            "Time taken for 1 epoch 521.6594622135162 sec\n",
            "\n",
            "Epoch 4 Batch 0 Loss 0.8639\n",
            "Epoch 4 Batch 100 Loss 0.8584\n",
            "Epoch 4 Batch 200 Loss 0.8429\n",
            "Epoch 4 Batch 300 Loss 0.8650\n",
            "Epoch 4 Batch 400 Loss 0.8960\n",
            "Epoch 4 Batch 500 Loss 0.8284\n",
            "Epoch 4 Batch 600 Loss 0.8003\n",
            "Epoch 4 Batch 700 Loss 0.8310\n",
            "Epoch 4 Batch 800 Loss 0.8666\n",
            "Epoch 4 Batch 900 Loss 0.8357\n",
            "Epoch 4 Batch 1000 Loss 0.8627\n",
            "Epoch 4 Batch 1100 Loss 0.8054\n",
            "Epoch 4 Batch 1200 Loss 0.7989\n",
            "Epoch 4 Batch 1300 Loss 0.8208\n",
            "Epoch 4 Batch 1400 Loss 0.8323\n",
            "Epoch 4 Loss 0.8524\n",
            "Time taken for 1 epoch 523.6998088359833 sec\n",
            "\n",
            "Epoch 5 Batch 0 Loss 0.8700\n",
            "Epoch 5 Batch 100 Loss 0.8389\n",
            "Epoch 5 Batch 200 Loss 0.7634\n",
            "Epoch 5 Batch 300 Loss 0.7657\n",
            "Epoch 5 Batch 400 Loss 0.7685\n",
            "Epoch 5 Batch 500 Loss 0.7340\n",
            "Epoch 5 Batch 600 Loss 0.7903\n",
            "Epoch 5 Batch 700 Loss 0.8451\n",
            "Epoch 5 Batch 800 Loss 0.8804\n",
            "Epoch 5 Batch 900 Loss 0.7727\n",
            "Epoch 5 Batch 1000 Loss 0.7371\n",
            "Epoch 5 Batch 1100 Loss 0.8091\n",
            "Epoch 5 Batch 1200 Loss 0.7873\n",
            "Epoch 5 Batch 1300 Loss 0.6741\n",
            "Epoch 5 Batch 1400 Loss 0.7314\n",
            "Epoch 5 Loss 0.7825\n",
            "Time taken for 1 epoch 522.0519125461578 sec\n",
            "\n",
            "Epoch 6 Batch 0 Loss 0.7217\n",
            "Epoch 6 Batch 100 Loss 0.7228\n",
            "Epoch 6 Batch 200 Loss 0.7182\n",
            "Epoch 6 Batch 300 Loss 0.7712\n",
            "Epoch 6 Batch 400 Loss 0.6915\n",
            "Epoch 6 Batch 500 Loss 0.7238\n",
            "Epoch 6 Batch 600 Loss 0.6833\n",
            "Epoch 6 Batch 700 Loss 0.7358\n",
            "Epoch 6 Batch 800 Loss 0.6919\n",
            "Epoch 6 Batch 900 Loss 0.7122\n",
            "Epoch 6 Batch 1000 Loss 0.6712\n",
            "Epoch 6 Batch 1100 Loss 0.6705\n",
            "Epoch 6 Batch 1200 Loss 0.6817\n",
            "Epoch 6 Batch 1300 Loss 0.7659\n",
            "Epoch 6 Batch 1400 Loss 0.6823\n",
            "Epoch 6 Loss 0.7127\n",
            "Time taken for 1 epoch 523.5527739524841 sec\n",
            "\n",
            "Epoch 7 Batch 0 Loss 0.6623\n",
            "Epoch 7 Batch 100 Loss 0.6605\n",
            "Epoch 7 Batch 200 Loss 0.6128\n",
            "Epoch 7 Batch 300 Loss 0.6238\n",
            "Epoch 7 Batch 400 Loss 0.6154\n",
            "Epoch 7 Batch 500 Loss 0.6201\n",
            "Epoch 7 Batch 600 Loss 0.6288\n",
            "Epoch 7 Batch 700 Loss 0.6496\n",
            "Epoch 7 Batch 800 Loss 0.6215\n",
            "Epoch 7 Batch 900 Loss 0.6004\n",
            "Epoch 7 Batch 1000 Loss 0.6437\n",
            "Epoch 7 Batch 1100 Loss 0.5916\n",
            "Epoch 7 Batch 1200 Loss 0.6478\n",
            "Epoch 7 Batch 1300 Loss 0.7340\n",
            "Epoch 7 Batch 1400 Loss 0.7037\n",
            "Epoch 7 Loss 0.6466\n",
            "Time taken for 1 epoch 521.8067488670349 sec\n",
            "\n",
            "Epoch 8 Batch 0 Loss 0.5505\n",
            "Epoch 8 Batch 100 Loss 0.5424\n",
            "Epoch 8 Batch 200 Loss 0.5797\n",
            "Epoch 8 Batch 300 Loss 0.5643\n",
            "Epoch 8 Batch 400 Loss 0.6277\n",
            "Epoch 8 Batch 500 Loss 0.5977\n",
            "Epoch 8 Batch 600 Loss 0.6224\n",
            "Epoch 8 Batch 700 Loss 0.5444\n",
            "Epoch 8 Batch 800 Loss 0.5505\n",
            "Epoch 8 Batch 900 Loss 0.6138\n",
            "Epoch 8 Batch 1000 Loss 0.6275\n",
            "Epoch 8 Batch 1100 Loss 0.5707\n",
            "Epoch 8 Batch 1200 Loss 0.5922\n",
            "Epoch 8 Batch 1300 Loss 0.6095\n",
            "Epoch 8 Batch 1400 Loss 0.6195\n",
            "Epoch 8 Loss 0.5867\n",
            "Time taken for 1 epoch 523.2223086357117 sec\n",
            "\n",
            "Epoch 9 Batch 0 Loss 0.5370\n",
            "Epoch 9 Batch 100 Loss 0.5345\n",
            "Epoch 9 Batch 200 Loss 0.5358\n",
            "Epoch 9 Batch 300 Loss 0.5994\n",
            "Epoch 9 Batch 400 Loss 0.5313\n",
            "Epoch 9 Batch 500 Loss 0.5168\n",
            "Epoch 9 Batch 600 Loss 0.5743\n",
            "Epoch 9 Batch 700 Loss 0.5195\n",
            "Epoch 9 Batch 800 Loss 0.5281\n",
            "Epoch 9 Batch 900 Loss 0.4987\n",
            "Epoch 9 Batch 1000 Loss 0.5062\n",
            "Epoch 9 Batch 1100 Loss 0.5261\n",
            "Epoch 9 Batch 1200 Loss 0.5634\n",
            "Epoch 9 Batch 1300 Loss 0.5256\n",
            "Epoch 9 Batch 1400 Loss 0.5388\n",
            "Epoch 9 Loss 0.5343\n",
            "Time taken for 1 epoch 522.4778738021851 sec\n",
            "\n",
            "Epoch 10 Batch 0 Loss 0.4535\n",
            "Epoch 10 Batch 100 Loss 0.4857\n",
            "Epoch 10 Batch 200 Loss 0.4590\n",
            "Epoch 10 Batch 300 Loss 0.4787\n",
            "Epoch 10 Batch 400 Loss 0.4499\n",
            "Epoch 10 Batch 500 Loss 0.5329\n",
            "Epoch 10 Batch 600 Loss 0.4742\n",
            "Epoch 10 Batch 700 Loss 0.5140\n",
            "Epoch 10 Batch 800 Loss 0.4699\n",
            "Epoch 10 Batch 900 Loss 0.4709\n",
            "Epoch 10 Batch 1000 Loss 0.5159\n",
            "Epoch 10 Batch 1100 Loss 0.4955\n",
            "Epoch 10 Batch 1200 Loss 0.5353\n",
            "Epoch 10 Batch 1300 Loss 0.4977\n",
            "Epoch 10 Batch 1400 Loss 0.4889\n",
            "Epoch 10 Loss 0.4891\n",
            "Time taken for 1 epoch 524.0509181022644 sec\n",
            "\n"
          ],
          "name": "stdout"
        }
      ]
    },
    {
      "cell_type": "markdown",
      "metadata": {
        "id": "cGMynov9tNkl"
      },
      "source": [
        "---"
      ]
    },
    {
      "cell_type": "markdown",
      "metadata": {
        "id": "4B6tUHCfREQ7"
      },
      "source": [
        "## #4. 기계번역 추론하기"
      ]
    },
    {
      "cell_type": "code",
      "metadata": {
        "id": "06a6U4kOtMug",
        "colab": {
          "base_uri": "https://localhost:8080/"
        },
        "outputId": "5f8be7e7-e48c-4fd1-b6a3-bac9c469e0f9"
      },
      "source": [
        "\"\"\" 시간 관계상 미리 학습해둔 체크포인트 활용 \"\"\"\n",
        "!pip install gdown\n",
        "!gdown https://drive.google.com/uc?id=1-40tE-3FyDDNq6xwDRFTwFFgqRovUN98\n",
        "\n",
        "## 마지막 체크포인트를 로드해서 테스트해보기\n",
        "!unzip /content/atten_result.zip"
      ],
      "execution_count": 38,
      "outputs": [
        {
          "output_type": "stream",
          "text": [
            "Requirement already satisfied: gdown in /usr/local/lib/python3.6/dist-packages (3.6.4)\n",
            "Requirement already satisfied: requests in /usr/local/lib/python3.6/dist-packages (from gdown) (2.23.0)\n",
            "Requirement already satisfied: tqdm in /usr/local/lib/python3.6/dist-packages (from gdown) (4.41.1)\n",
            "Requirement already satisfied: six in /usr/local/lib/python3.6/dist-packages (from gdown) (1.15.0)\n",
            "Requirement already satisfied: urllib3!=1.25.0,!=1.25.1,<1.26,>=1.21.1 in /usr/local/lib/python3.6/dist-packages (from requests->gdown) (1.24.3)\n",
            "Requirement already satisfied: idna<3,>=2.5 in /usr/local/lib/python3.6/dist-packages (from requests->gdown) (2.10)\n",
            "Requirement already satisfied: chardet<4,>=3.0.2 in /usr/local/lib/python3.6/dist-packages (from requests->gdown) (3.0.4)\n",
            "Requirement already satisfied: certifi>=2017.4.17 in /usr/local/lib/python3.6/dist-packages (from requests->gdown) (2020.11.8)\n",
            "Downloading...\n",
            "From: https://drive.google.com/uc?id=1-40tE-3FyDDNq6xwDRFTwFFgqRovUN98\n",
            "To: /content/atten_result.zip\n",
            "222MB [00:02, 100MB/s]\n",
            "Archive:  /content/atten_result.zip\n",
            "   creating: content/gdrive/My Drive/NLP/train_attention/\n",
            "  inflating: content/gdrive/My Drive/NLP/train_attention/checkpoint  \n",
            "  inflating: content/gdrive/My Drive/NLP/train_attention/ckpt-5.data-00001-of-00002  \n",
            "  inflating: content/gdrive/My Drive/NLP/train_attention/ckpt-5.data-00000-of-00002  \n",
            "  inflating: content/gdrive/My Drive/NLP/train_attention/ckpt-5.index  \n",
            "   creating: content/gdrive/My Drive/NLP/train_attention/.ipynb_checkpoints/\n"
          ],
          "name": "stdout"
        }
      ]
    },
    {
      "cell_type": "markdown",
      "metadata": {
        "id": "cRJfNnB9RIv1"
      },
      "source": [
        "위에서 다운로드한 체크포인트를 로딩합니다. "
      ]
    },
    {
      "cell_type": "code",
      "metadata": {
        "id": "yNwx38JntNDX",
        "colab": {
          "base_uri": "https://localhost:8080/"
        },
        "outputId": "8b622ffb-04c2-48ab-ea2f-c7faccc08b36"
      },
      "source": [
        "checkpoint_dir = \"/content/content/gdrive/My Drive/NLP/train_attention\"\n",
        "checkpoint_prefix = os.path.join(checkpoint_dir, \"ckpt\")\n",
        "checkpoint = tf.train.Checkpoint(optimizer=optimizer,\n",
        "                                 encoder=encoder,\n",
        "                                 decoder=decoder)\n",
        "\n",
        "# restoring the latest checkpoint in checkpoint_dir\n",
        "checkpoint.restore(tf.train.latest_checkpoint(checkpoint_dir))"
      ],
      "execution_count": 39,
      "outputs": [
        {
          "output_type": "execute_result",
          "data": {
            "text/plain": [
              "<tensorflow.python.training.tracking.util.CheckpointLoadStatus at 0x7f7229cdd0b8>"
            ]
          },
          "metadata": {
            "tags": []
          },
          "execution_count": 39
        }
      ]
    },
    {
      "cell_type": "markdown",
      "metadata": {
        "id": "pmG_dxxPum-c"
      },
      "source": [
        "translate 함수는 한국어를 입력받아 \n",
        "- 위에서 정의한 학습한 모델로 번역을 수행하고,   \n",
        "- attention 결과를 시각화해주는 함수입니다.   "
      ]
    },
    {
      "cell_type": "code",
      "metadata": {
        "id": "KBWqUulNuwEj"
      },
      "source": [
        "def translate(sentence):\n",
        "  result, sentence, attention_plot = inference(sentence, encoder, decoder, units, max_length_targ, max_length_inp, kor_tokenizer, inp_lang, targ_lang)\n",
        "\n",
        "  print('Input: %s' % (sentence))\n",
        "  print('Predicted translation: {}'.format(result))\n",
        "\n",
        "  attention_plot = attention_plot[:len(result.split()), :len(sentence.split())]\n",
        "  plot_attention(attention_plot, sentence.split(), result.split())"
      ],
      "execution_count": 40,
      "outputs": []
    },
    {
      "cell_type": "code",
      "metadata": {
        "id": "URmOzAE7sVVz"
      },
      "source": [
        "import warnings\n",
        "warnings.filterwarnings(\"ignore\")"
      ],
      "execution_count": 41,
      "outputs": []
    },
    {
      "cell_type": "code",
      "metadata": {
        "id": "A4bCKzMcR9p7",
        "colab": {
          "base_uri": "https://localhost:8080/",
          "height": 525
        },
        "outputId": "437d54c6-bbce-40c4-a88d-f301eb80b07a"
      },
      "source": [
        "translate(\"제가 생각했던 것보다 쉽네요\")"
      ],
      "execution_count": 42,
      "outputs": [
        {
          "output_type": "stream",
          "text": [
            "Input: <start> 제가 생각 하 았 던 것 보다 쉽 네요 <end>\n",
            "Predicted translation: it was more easy than i thought <end> \n"
          ],
          "name": "stdout"
        },
        {
          "output_type": "display_data",
          "data": {
            "image/png": "[encoded data removed]",
            "text/plain": [
              "<Figure size 720x720 with 1 Axes>"
            ]
          },
          "metadata": {
            "tags": [],
            "image/png": {
              "width": 630,
              "height": 472
            },
            "needs_background": "light"
          }
        }
      ]
    },
    {
      "cell_type": "markdown",
      "metadata": {
        "id": "Bhaa9N21RVc4"
      },
      "source": [
        "추론 결과를 한 단계씩 살펴보겠습니다.   \n",
        "먼저 인풋 문장은 토크나이징하여 [<start\\>] [제가] [생각] [하] [았] [던] [것] [보다] [쉽] [네요] [\\<end\\>]로 처리되었습니다.   \n",
        "\n",
        "👉 첫 번째 토큰으로 [it]가 디코딩되었고, 이때 [네요] 토큰에 attention score이 높았습니다.   \n",
        "👉 두 번째 토큰은 Input feeding으로 [it]이 디코더에 들어가 [was] 토큰이 디코딩되었고, [<start\\>]와 [네요] 토큰에 attention score이 높았습니다.  \n",
        "👉 세 번째 토큰은 [more]이 디코딩되었고  [보다] [쉽] [네요] 등에 골고루 attend했습니다.   \n",
        "👉 네 번째 토큰은 [easy]가 디코딩되었고 [쉽] [네요] 토큰에 score가 높습니다.   \n",
        "\n",
        "...  \n",
        "\n",
        "이런 식으로 디코딩 타음스텝별로 인풋 토큰 중 필요한 부분에 attend하여 필요한 문맥 정보를 가지고 옵니다.   "
      ]
    },
    {
      "cell_type": "code",
      "metadata": {
        "id": "fkV76E08yZIX",
        "colab": {
          "base_uri": "https://localhost:8080/",
          "height": 663
        },
        "outputId": "b9c681c0-034b-4764-933c-03c825b33d54"
      },
      "source": [
        "translate(\"이따 치킨이랑 맥주 먹어야지\")"
      ],
      "execution_count": 43,
      "outputs": [
        {
          "output_type": "stream",
          "text": [
            "Input: <start> 이따 치킨 이랑 맥주 먹 어야지 <end>\n",
            "Predicted translation: we have to eat a beer and chicken <end> \n"
          ],
          "name": "stdout"
        },
        {
          "output_type": "display_data",
          "data": {
            "image/png": "[encoded data removed]",
            "text/plain": [
              "<Figure size 720x720 with 1 Axes>"
            ]
          },
          "metadata": {
            "tags": [],
            "image/png": {
              "width": 553,
              "height": 610
            },
            "needs_background": "light"
          }
        }
      ]
    },
    {
      "cell_type": "markdown",
      "metadata": {
        "id": "adfpnc2OWal4"
      },
      "source": [
        "두 번째 문장에 대해서도 결과를 한 번 확인해 보시기 바랍니다.   \n",
        "한국어와 영어는 어순이 역순이어서 그런지, attention score가 역순으로 점수가 높은 것도 보여서 재미있는 결과입니다.  "
      ]
    },
    {
      "cell_type": "code",
      "metadata": {
        "id": "yfBfljLcf7g0",
        "colab": {
          "base_uri": "https://localhost:8080/",
          "height": 576
        },
        "outputId": "187500ca-8c19-48cd-adda-fe0a3ec72f74"
      },
      "source": [
        "translate(\"편한 방향으로 정해지겠지\")"
      ],
      "execution_count": 46,
      "outputs": [
        {
          "output_type": "stream",
          "text": [
            "Input: <start> 편하 ㄴ 방향 으로 정하 아 지 겠 지 <end>\n",
            "Predicted translation: would you like to go to the temple <end> \n"
          ],
          "name": "stdout"
        },
        {
          "output_type": "display_data",
          "data": {
            "image/png": "[encoded data removed]",
            "text/plain": [
              "<Figure size 720x720 with 1 Axes>"
            ]
          },
          "metadata": {
            "tags": [],
            "image/png": {
              "width": 624,
              "height": 523
            },
            "needs_background": "light"
          }
        }
      ]
    }
  ]
}