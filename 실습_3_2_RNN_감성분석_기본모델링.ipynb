{
  "nbformat": 4,
  "nbformat_minor": 0,
  "metadata": {
    "colab": {
      "name": "실습_3_2_RNN_감성분석_기본모델링.ipynb",
      "provenance": [],
      "collapsed_sections": [],
      "machine_shape": "hm",
      "include_colab_link": true
    },
    "kernelspec": {
      "name": "python3",
      "display_name": "Python 3"
    },
    "accelerator": "GPU"
  },
  "cells": [
    {
      "cell_type": "markdown",
      "metadata": {
        "id": "view-in-github",
        "colab_type": "text"
      },
      "source": [
        "<a href=\"https://colab.research.google.com/github/idjoopal/NLP_tensorflow2.0/blob/main/%EC%8B%A4%EC%8A%B5_3_2_RNN_%EA%B0%90%EC%84%B1%EB%B6%84%EC%84%9D_%EA%B8%B0%EB%B3%B8%EB%AA%A8%EB%8D%B8%EB%A7%81.ipynb\" target=\"_parent\"><img src=\"https://colab.research.google.com/assets/colab-badge.svg\" alt=\"Open In Colab\"/></a>"
      ]
    },
    {
      "cell_type": "markdown",
      "metadata": {
        "id": "5F0ln_J9xeHb"
      },
      "source": [
        "(🎧) 표시가 되어 있는 부분은 Wire 페이지에서 오디오 코드 해설을 제공하고 있습니다."
      ]
    },
    {
      "cell_type": "markdown",
      "metadata": {
        "id": "EnxXpzPgxhHy"
      },
      "source": [
        "---"
      ]
    },
    {
      "cell_type": "markdown",
      "metadata": {
        "id": "RQuwLrfneJGq"
      },
      "source": [
        "# 실습 3. RNN을 이용한 😀감정분석😑 모델 학습하기\n",
        "\n",
        "\n",
        "\n",
        "<b>학습 목표:    \n",
        "- TensorFlow를 사용해 RNN을 활용한 텍스트분류 모델을 만들 수 있다.   \n",
        "- 기 확보된 워드벡터를 사용해 임베딩을 초기화할 수 있다. \n",
        "</b>\n",
        "\n",
        "\n",
        "\n",
        "\n",
        "\n",
        "\n"
      ]
    },
    {
      "cell_type": "markdown",
      "metadata": {
        "id": "XI5VEKjCVzQz"
      },
      "source": [
        "## #0. 실습 준비하기\n",
        "먼저 구글 드라이브를 마운트하고, 드라이브에 저장해두었던 데이터를 로딩하겠습니다."
      ]
    },
    {
      "cell_type": "code",
      "metadata": {
        "id": "5Cg9V5xCV-YJ",
        "colab": {
          "base_uri": "https://localhost:8080/"
        },
        "outputId": "30539436-0482-4bd0-c4a2-b5e24c035b3b"
      },
      "source": [
        "from google.colab import drive\n",
        "drive.mount('/content/gdrive')"
      ],
      "execution_count": 1,
      "outputs": [
        {
          "output_type": "stream",
          "text": [
            "Mounted at /content/gdrive\n"
          ],
          "name": "stdout"
        }
      ]
    },
    {
      "cell_type": "code",
      "metadata": {
        "id": "_j2Asqi6varT",
        "colab": {
          "base_uri": "https://localhost:8080/"
        },
        "outputId": "3e0a6167-0a2d-4bec-b1df-2a472e59e3a2"
      },
      "source": [
        "## train, validation, test 데이터 로딩\n",
        "!cp \"/content/gdrive/My Drive/NLP/utils.py\" \"/content\"\n",
        "\n",
        "import pickle\n",
        "import numpy as np\n",
        "with open(\"/content/gdrive/My Drive/NLP/Sentiment_prepro_data.pkl\", \"rb\") as f:\n",
        "  prepro_data = pickle.load(f)\n",
        "train_ids = prepro_data[\"train_ids\"]\n",
        "train_labels = prepro_data[\"train_labels\"]\n",
        "val_ids = prepro_data[\"val_ids\"]\n",
        "val_labels = prepro_data[\"val_labels\"]\n",
        "test_ids = prepro_data[\"test_ids\"]\n",
        "test_labels = prepro_data[\"test_labels\"]\n",
        "label_map = prepro_data[\"label_map\"]\n",
        "print(len(train_ids), len(train_labels), len(val_ids), len(val_labels), len(test_ids), len(test_labels))"
      ],
      "execution_count": 2,
      "outputs": [
        {
          "output_type": "stream",
          "text": [
            "49999 49999 9999 9999 10000 10000\n"
          ],
          "name": "stdout"
        }
      ]
    },
    {
      "cell_type": "code",
      "metadata": {
        "id": "qZ695haKKAwv",
        "colab": {
          "base_uri": "https://localhost:8080/"
        },
        "outputId": "716f9be6-d918-4e5b-a9b9-804ac4be6fe9"
      },
      "source": [
        "\"\"\" 한국어 형태소 분석 라이브러리 \"\"\"\n",
        "!pip install konlpy\n",
        "from konlpy.tag import Komoran\n",
        " \n",
        "komoran = Komoran()\n",
        " \n",
        "def tokenize(sentence):\n",
        "  return komoran.morphs(sentence)\n",
        " \n",
        "tokenize(\"미션 완료!!\")"
      ],
      "execution_count": 3,
      "outputs": [
        {
          "output_type": "stream",
          "text": [
            "Collecting konlpy\n",
            "\u001b[?25l  Downloading https://files.pythonhosted.org/packages/85/0e/f385566fec837c0b83f216b2da65db9997b35dd675e107752005b7d392b1/konlpy-0.5.2-py2.py3-none-any.whl (19.4MB)\n",
            "\u001b[K     |████████████████████████████████| 19.4MB 69.3MB/s \n",
            "\u001b[?25hRequirement already satisfied: lxml>=4.1.0 in /usr/local/lib/python3.6/dist-packages (from konlpy) (4.2.6)\n",
            "Collecting JPype1>=0.7.0\n",
            "\u001b[?25l  Downloading https://files.pythonhosted.org/packages/fd/96/1030895dea70855a2e1078e3fe0d6a63dcb7c212309e07dc9ee39d33af54/JPype1-1.1.2-cp36-cp36m-manylinux2010_x86_64.whl (450kB)\n",
            "\u001b[K     |████████████████████████████████| 460kB 51.8MB/s \n",
            "\u001b[?25hCollecting beautifulsoup4==4.6.0\n",
            "\u001b[?25l  Downloading https://files.pythonhosted.org/packages/9e/d4/10f46e5cfac773e22707237bfcd51bbffeaf0a576b0a847ec7ab15bd7ace/beautifulsoup4-4.6.0-py3-none-any.whl (86kB)\n",
            "\u001b[K     |████████████████████████████████| 92kB 13.5MB/s \n",
            "\u001b[?25hRequirement already satisfied: numpy>=1.6 in /usr/local/lib/python3.6/dist-packages (from konlpy) (1.18.5)\n",
            "Collecting tweepy>=3.7.0\n",
            "  Downloading https://files.pythonhosted.org/packages/bb/7c/99d51f80f3b77b107ebae2634108717362c059a41384a1810d13e2429a81/tweepy-3.9.0-py2.py3-none-any.whl\n",
            "Collecting colorama\n",
            "  Downloading https://files.pythonhosted.org/packages/44/98/5b86278fbbf250d239ae0ecb724f8572af1c91f4a11edf4d36a206189440/colorama-0.4.4-py2.py3-none-any.whl\n",
            "Requirement already satisfied: typing-extensions; python_version < \"3.8\" in /usr/local/lib/python3.6/dist-packages (from JPype1>=0.7.0->konlpy) (3.7.4.3)\n",
            "Requirement already satisfied: requests[socks]>=2.11.1 in /usr/local/lib/python3.6/dist-packages (from tweepy>=3.7.0->konlpy) (2.23.0)\n",
            "Requirement already satisfied: requests-oauthlib>=0.7.0 in /usr/local/lib/python3.6/dist-packages (from tweepy>=3.7.0->konlpy) (1.3.0)\n",
            "Requirement already satisfied: six>=1.10.0 in /usr/local/lib/python3.6/dist-packages (from tweepy>=3.7.0->konlpy) (1.15.0)\n",
            "Requirement already satisfied: urllib3!=1.25.0,!=1.25.1,<1.26,>=1.21.1 in /usr/local/lib/python3.6/dist-packages (from requests[socks]>=2.11.1->tweepy>=3.7.0->konlpy) (1.24.3)\n",
            "Requirement already satisfied: chardet<4,>=3.0.2 in /usr/local/lib/python3.6/dist-packages (from requests[socks]>=2.11.1->tweepy>=3.7.0->konlpy) (3.0.4)\n",
            "Requirement already satisfied: certifi>=2017.4.17 in /usr/local/lib/python3.6/dist-packages (from requests[socks]>=2.11.1->tweepy>=3.7.0->konlpy) (2020.11.8)\n",
            "Requirement already satisfied: idna<3,>=2.5 in /usr/local/lib/python3.6/dist-packages (from requests[socks]>=2.11.1->tweepy>=3.7.0->konlpy) (2.10)\n",
            "Requirement already satisfied: PySocks!=1.5.7,>=1.5.6; extra == \"socks\" in /usr/local/lib/python3.6/dist-packages (from requests[socks]>=2.11.1->tweepy>=3.7.0->konlpy) (1.7.1)\n",
            "Requirement already satisfied: oauthlib>=3.0.0 in /usr/local/lib/python3.6/dist-packages (from requests-oauthlib>=0.7.0->tweepy>=3.7.0->konlpy) (3.1.0)\n",
            "Installing collected packages: JPype1, beautifulsoup4, tweepy, colorama, konlpy\n",
            "  Found existing installation: beautifulsoup4 4.6.3\n",
            "    Uninstalling beautifulsoup4-4.6.3:\n",
            "      Successfully uninstalled beautifulsoup4-4.6.3\n",
            "  Found existing installation: tweepy 3.6.0\n",
            "    Uninstalling tweepy-3.6.0:\n",
            "      Successfully uninstalled tweepy-3.6.0\n",
            "Successfully installed JPype1-1.1.2 beautifulsoup4-4.6.0 colorama-0.4.4 konlpy-0.5.2 tweepy-3.9.0\n"
          ],
          "name": "stdout"
        },
        {
          "output_type": "execute_result",
          "data": {
            "text/plain": [
              "['미션', '완료', '!!']"
            ]
          },
          "metadata": {
            "tags": []
          },
          "execution_count": 3
        }
      ]
    },
    {
      "cell_type": "code",
      "metadata": {
        "id": "vxq4ytVlwG6W"
      },
      "source": [
        "## 단어사전 & text_encoder 로딩\n",
        "from utils import TextEncoder\n",
        "import json\n",
        "with open(\"/content/gdrive/My Drive/NLP/Sentiment_vocab.json\", \"r\") as f:\n",
        "  new_vocab_list = json.loads(f.read())\n",
        "\n",
        "text_encoder = TextEncoder(new_vocab_list)"
      ],
      "execution_count": 4,
      "outputs": []
    },
    {
      "cell_type": "code",
      "metadata": {
        "id": "hKW_G39ZyJhN"
      },
      "source": [
        "\"\"\" CBOW 워드벡터 로딩 \"\"\"\n",
        "\n",
        "## final_embeddings: 70002개 토큰에 대한 워드 벡터 매트릭스 shape=(70002, 128)\n",
        "\n",
        "with open(\"/content/gdrive/My Drive/NLP/vecs.tsv\") as f:\n",
        "  vecs = [v.strip() for v in f.readlines()]\n",
        "  final_embeddings = [v.split(\"\\t\") for v in vecs]\n",
        "  final_embeddings = np.array(final_embeddings, dtype=\"float32\")"
      ],
      "execution_count": 5,
      "outputs": []
    },
    {
      "cell_type": "markdown",
      "metadata": {
        "id": "LhcHsul1IHxj"
      },
      "source": [
        "## #1. 모델 만들기\n",
        "<img src = \"https://github.com/seungyounglim/temporary/blob/master/fig_step3+4.PNG?raw=true\">"
      ]
    },
    {
      "cell_type": "markdown",
      "metadata": {
        "id": "FuckiGpMwsS6"
      },
      "source": [
        "#### Step 1. 모델 구조 만들기\n",
        "이제 실습 소개에서 보았던 모델 아키텍처를 tensorflow를 사용해 만들어보겠습니다.   \n",
        "아래의 Summary를 보고 직접 모델을 한 번 만들어보세요."
      ]
    },
    {
      "cell_type": "markdown",
      "metadata": {
        "id": "39iPCdwGTjzk"
      },
      "source": [
        "<font color=\"red\">MISSION : model의 summary를 확인하고 tf.keras.Sequential을 이용해 이와 동일한 모델을 만들어 보세요.   \n",
        "```\n",
        "_________________________________________________________________\n",
        "Layer (type)                 Output Shape              Param #   \n",
        "=================================================================\n",
        "embedding (Embedding)        (None, None, 128)         10993664  \n",
        "_________________________________________________________________\n",
        "simple_rnn (SimpleRNN)       (None, 50)                8950      \n",
        "_________________________________________________________________\n",
        "dense (Dense)                (None, 50)                2550      \n",
        "_________________________________________________________________\n",
        "dense_1 (Dense)              (None, 2)                 102       \n",
        "=================================================================\n",
        "Total params: 11,005,266\n",
        "Trainable params: 11,005,266\n",
        "Non-trainable params: 0\n",
        "_________________________________________________________________\n",
        "```\n",
        "</font>\n"
      ]
    },
    {
      "cell_type": "code",
      "metadata": {
        "id": "u21E5JCF75xX"
      },
      "source": [
        "## 쌓여있는 불필요한 것들을 삭제\n",
        "import tensorflow as tf\n",
        "tf.keras.backend.clear_session()"
      ],
      "execution_count": 6,
      "outputs": []
    },
    {
      "cell_type": "markdown",
      "metadata": {
        "id": "JBL2kf43xCCW"
      },
      "source": [
        "<조건(🎧)>   \n",
        "1. Embedding: vocab_size -> embedding_dim으로 임베딩, Padding된 부분은 마스킹할 것 (mask_zero 옵션)\n",
        "2. SimpleRNN의 유닛(hidden_size)은 50차원이 되게 할 것\n",
        "3. 첫 번째 Dense layer에서는 relu activation을 사용할 것, hidden 차원은 50차원\n",
        "4. 두 번째 Dense layer에서는 결과가 [긍정, 부정] 카테고리에 대한 확률값과 같이 나오도록 할 것"
      ]
    },
    {
      "cell_type": "code",
      "metadata": {
        "id": "vcDr8GlZTqqV"
      },
      "source": [
        "from tensorflow.keras import Sequential\n",
        "from tensorflow.keras.layers import Embedding, SimpleRNN, Dense\n",
        "\n",
        "vocab_size = text_encoder.vocab_size # 단어사전 개수\n",
        "embedding_dim = final_embeddings.shape[1] # 임베딩 차원\n",
        "rnn_hidden_dim = 50 # RNN hidden_size\n",
        "final_dim = len(label_map)\n",
        "\n",
        "\"\"\" YOUR CODE HERE \"\"\"\n",
        "\n",
        "model = Sequential()\n",
        "## 1. Embedding layer 추가 ... (주의) padding된 부분은 마스킹 필요 -> mask_zero 옵션 참고\n",
        "model.add(Embedding(input_dim = vocab_size, output_dim = embedding_dim, mask_zero = True)) ## [★CODE 1★]\n",
        " \n",
        "## 2. SimpleRNN 레이어 추가\n",
        "model.add(SimpleRNN(rnn_hidden_dim))  ## [★CODE 2★]\n",
        " \n",
        "## 3. Fully Connected Layer 추가 (RNN 아웃풋에 대한 정보 가공)\n",
        "model.add(Dense(rnn_hidden_dim, activation='relu'))  ## [★CODE 3★]\n",
        " \n",
        "## 4. Fully Connected Layer 추가 (최종 태스크 수행을 위한 레이어)\n",
        "model.add(Dense(final_dim, activation= 'softmax'))  ## [★CODE 4★]\n"
      ],
      "execution_count": 7,
      "outputs": []
    },
    {
      "cell_type": "code",
      "metadata": {
        "id": "qlpgWelVIMXu",
        "colab": {
          "base_uri": "https://localhost:8080/"
        },
        "outputId": "5106ef9e-b013-403b-d2db-16ac91a8a2fe"
      },
      "source": [
        "model.summary()"
      ],
      "execution_count": 8,
      "outputs": [
        {
          "output_type": "stream",
          "text": [
            "Model: \"sequential\"\n",
            "_________________________________________________________________\n",
            "Layer (type)                 Output Shape              Param #   \n",
            "=================================================================\n",
            "embedding (Embedding)        (None, None, 128)         10998912  \n",
            "_________________________________________________________________\n",
            "simple_rnn (SimpleRNN)       (None, 50)                8950      \n",
            "_________________________________________________________________\n",
            "dense (Dense)                (None, 50)                2550      \n",
            "_________________________________________________________________\n",
            "dense_1 (Dense)              (None, 2)                 102       \n",
            "=================================================================\n",
            "Total params: 11,010,514\n",
            "Trainable params: 11,010,514\n",
            "Non-trainable params: 0\n",
            "_________________________________________________________________\n"
          ],
          "name": "stdout"
        }
      ]
    },
    {
      "cell_type": "markdown",
      "metadata": {
        "id": "-WQSqxZOy4mW"
      },
      "source": [
        "#### Step 2. CBOW로 학습된 워드 임베딩으로 모델 임베딩 Initialize 하기"
      ]
    },
    {
      "cell_type": "code",
      "metadata": {
        "id": "hF_nehjv7ejN",
        "colab": {
          "base_uri": "https://localhost:8080/"
        },
        "outputId": "b212f47a-8e70-42fc-f194-13afa3b21187"
      },
      "source": [
        "## 단어사전 개수 체크\n",
        "org_vocab_size = final_embeddings.shape[0]\n",
        "new_vocab_size = len(new_vocab_list)\n",
        "\n",
        "print(\"CBOW initialize될 토큰 개수:\", org_vocab_size)\n",
        "print(\"새로운 임베딩의 one-hot-vector:\", new_vocab_size, \"\\n\")\n",
        "print(\"-> 랜덤 초기화해야 할 벡터 차원: {} x {}\".format(new_vocab_size-org_vocab_size, embedding_dim))\n"
      ],
      "execution_count": 9,
      "outputs": [
        {
          "output_type": "stream",
          "text": [
            "CBOW initialize될 토큰 개수: 70002\n",
            "새로운 임베딩의 one-hot-vector: 85929 \n",
            "\n",
            "-> 랜덤 초기화해야 할 벡터 차원: 15927 x 128\n"
          ],
          "name": "stdout"
        }
      ]
    },
    {
      "cell_type": "markdown",
      "metadata": {
        "id": "DXHH4WYPzbIc"
      },
      "source": [
        "👉이번 모델의 임베딩에서 기존 CBOW로 학습된 워드벡터로 초기화할 부분을 제외한 나머지는 랜덤하게 초기화야 합니다.   \n",
        "👉즉, <랜덤 초기화해야 할 벡터 차원>에 있는 만큼의 매트릭스를 랜덤 initialize해야 하지요.\n",
        "\n",
        "numpy를 사용해 Uniform~[-1, 1]으로부터 랜덤 초기화된 워드벡터를 생성하겠습니다."
      ]
    },
    {
      "cell_type": "code",
      "metadata": {
        "id": "8nJZ8o6v7kih",
        "colab": {
          "base_uri": "https://localhost:8080/"
        },
        "outputId": "6c90f26c-83f9-49c1-af1f-7d979834bf14"
      },
      "source": [
        "rand_initial = np.random.uniform(-1,1,size=[vocab_size-org_vocab_size,embedding_dim])\n",
        "rand_initial.shape"
      ],
      "execution_count": 10,
      "outputs": [
        {
          "output_type": "execute_result",
          "data": {
            "text/plain": [
              "(15927, 128)"
            ]
          },
          "metadata": {
            "tags": []
          },
          "execution_count": 10
        }
      ]
    },
    {
      "cell_type": "markdown",
      "metadata": {
        "id": "NCci7Tksz-a1"
      },
      "source": [
        "그리고, CBOW로 학습된 final_embeddings 뒤에    \n",
        "방금 초기화한 rand_initial 매트릭스를 이어붙여 임베딩 매트릭스를 만들겠습니다. \n",
        "\n",
        "numpy 패키지의 append 기능을 사용하면 됩니다."
      ]
    },
    {
      "cell_type": "code",
      "metadata": {
        "id": "CeS8C3bx7yqC",
        "colab": {
          "base_uri": "https://localhost:8080/"
        },
        "outputId": "b93087e6-c826-4a65-d163-4b663875dab5"
      },
      "source": [
        "initial_weight = np.append(final_embeddings, rand_initial, axis = 0)\n",
        "initial_weight.shape"
      ],
      "execution_count": 11,
      "outputs": [
        {
          "output_type": "execute_result",
          "data": {
            "text/plain": [
              "(85929, 128)"
            ]
          },
          "metadata": {
            "tags": []
          },
          "execution_count": 11
        }
      ]
    },
    {
      "cell_type": "markdown",
      "metadata": {
        "id": "zERPVBGl0PUE"
      },
      "source": [
        "👉initial_weight는 이번 모델의 임베딩 매트릭스 차원과 같은 것을 확인할 수 있습니다.   \n",
        "\n",
        "(🎧)이제 model의 weight에 우리가 만든 initial_weight를 할당하도록 하겠습니다. \n",
        "\n",
        "model.weight에 assign 함수를 사용하면 이 작업을 쉽게 할 수 있습니다.   \n"
      ]
    },
    {
      "cell_type": "code",
      "metadata": {
        "id": "Bw-yYwUi0a6k",
        "colab": {
          "base_uri": "https://localhost:8080/"
        },
        "outputId": "7a1b60ac-bfa4-4dcf-8bb5-8652938b42d9"
      },
      "source": [
        "model.weights[0].assign(initial_weight) # model.weights[0] -> 임베딩 레이어에 해당\n",
        "model.get_weights()[0]"
      ],
      "execution_count": 12,
      "outputs": [
        {
          "output_type": "execute_result",
          "data": {
            "text/plain": [
              "array([[ 3.9256822e-02, -2.4412179e-02, -7.6701492e-04, ...,\n",
              "         4.9325500e-02,  4.3148886e-02, -4.0991127e-02],\n",
              "       [ 4.2455843e-01,  2.4667573e-01,  1.9708332e-01, ...,\n",
              "        -5.0499272e-02, -1.7417309e-01, -4.6320158e-01],\n",
              "       [ 1.0858837e+00, -1.2546027e+00, -1.2321458e+00, ...,\n",
              "         8.1983000e-01, -7.0880622e-01,  5.9558034e-01],\n",
              "       ...,\n",
              "       [ 4.9917516e-01, -5.3262675e-01, -2.3219430e-01, ...,\n",
              "        -2.3037341e-01, -9.9234438e-01, -7.0930630e-01],\n",
              "       [-9.8073816e-01, -3.9291060e-01, -8.3024047e-02, ...,\n",
              "         4.6007589e-01, -7.0966065e-01,  9.7952348e-01],\n",
              "       [-7.1758169e-01, -4.6511716e-01, -4.3289325e-01, ...,\n",
              "        -1.8857881e-01,  8.3700579e-01,  9.7312592e-02]], dtype=float32)"
            ]
          },
          "metadata": {
            "tags": []
          },
          "execution_count": 12
        }
      ]
    },
    {
      "cell_type": "code",
      "metadata": {
        "id": "N6Z2MNRoT_1a",
        "colab": {
          "base_uri": "https://localhost:8080/"
        },
        "outputId": "93fd880e-1eea-457f-ae53-df19b3578b2e"
      },
      "source": [
        "final_embeddings"
      ],
      "execution_count": 13,
      "outputs": [
        {
          "output_type": "execute_result",
          "data": {
            "text/plain": [
              "array([[ 3.92568223e-02, -2.44121794e-02, -7.67014921e-04, ...,\n",
              "         4.93254997e-02,  4.31488864e-02, -4.09911275e-02],\n",
              "       [ 4.24558431e-01,  2.46675730e-01,  1.97083324e-01, ...,\n",
              "        -5.04992716e-02, -1.74173087e-01, -4.63201582e-01],\n",
              "       [ 1.08588374e+00, -1.25460267e+00, -1.23214579e+00, ...,\n",
              "         8.19830000e-01, -7.08806217e-01,  5.95580339e-01],\n",
              "       ...,\n",
              "       [ 2.02341750e-01, -1.13033660e-01,  2.74788380e-01, ...,\n",
              "        -4.55104671e-02,  3.08532685e-01,  1.54408783e-01],\n",
              "       [ 2.18777850e-01, -1.54311925e-01,  2.18053475e-01, ...,\n",
              "        -1.76449835e-01,  2.23786786e-01,  2.81470031e-01],\n",
              "       [ 1.24371134e-01, -1.11524709e-01,  9.67203155e-02, ...,\n",
              "        -8.26191679e-02,  2.82161504e-01,  2.67752022e-01]], dtype=float32)"
            ]
          },
          "metadata": {
            "tags": []
          },
          "execution_count": 13
        }
      ]
    },
    {
      "cell_type": "markdown",
      "metadata": {
        "id": "IPp_wZ2ddaMG"
      },
      "source": [
        "#### Step 3. 모델 컴파일하기"
      ]
    },
    {
      "cell_type": "markdown",
      "metadata": {
        "id": "FV84N0EKw66U"
      },
      "source": [
        "<font color=\"red\">MISSION : 적절한 Loss 함수와 Optimizer을 선택하고, \"accuracy\" 매트릭을 트래킹하도록 컴파일해주세요\n",
        "</font>"
      ]
    },
    {
      "cell_type": "code",
      "metadata": {
        "id": "V3nPJiGW1q92"
      },
      "source": [
        "\"\"\" Your Code Here \"\"\"\n",
        "model.compile(loss = \"sparse_categorical_crossentropy\",\n",
        "              optimizer = \"adam\", metrics = \"accuracy\")\n"
      ],
      "execution_count": 14,
      "outputs": []
    },
    {
      "cell_type": "markdown",
      "metadata": {
        "id": "9wQWmz8Xdi89"
      },
      "source": [
        "#### Step 4. 모델 학습하기 (🎧)\n",
        "모델 구조 선언과 컴파일이 완료되었습니다!    \n",
        "이제 model.fit()을 통해 학습을 진행하겠습니다.    \n",
        "이때 validation data의 loss를 트래킹하며 loss가 증가할 시 EarlyStopping을 하는 콜백을 사용하겠습니다."
      ]
    },
    {
      "cell_type": "code",
      "metadata": {
        "id": "v9vODjnL8KuZ"
      },
      "source": [
        "## early stopping callback 정의\n",
        "callback = tf.keras.callbacks.EarlyStopping(monitor='val_loss',  patience=1)"
      ],
      "execution_count": 15,
      "outputs": []
    },
    {
      "cell_type": "code",
      "metadata": {
        "id": "R6jyqi5cdjJB",
        "colab": {
          "base_uri": "https://localhost:8080/"
        },
        "outputId": "a38901d1-08de-4bdc-e637-95e6dee603c7"
      },
      "source": [
        "num_epochs = 5\n",
        "history = model.fit(train_ids, train_labels, epochs=num_epochs, batch_size=200,\n",
        "                    validation_data=(val_ids, val_labels), callbacks=[callback])"
      ],
      "execution_count": 16,
      "outputs": [
        {
          "output_type": "stream",
          "text": [
            "Epoch 1/5\n",
            "250/250 [==============================] - 28s 111ms/step - loss: 0.5909 - accuracy: 0.6753 - val_loss: 0.4706 - val_accuracy: 0.7797\n",
            "Epoch 2/5\n",
            "250/250 [==============================] - 27s 109ms/step - loss: 0.3993 - accuracy: 0.8242 - val_loss: 0.4203 - val_accuracy: 0.8153\n",
            "Epoch 3/5\n",
            "250/250 [==============================] - 27s 109ms/step - loss: 0.3163 - accuracy: 0.8691 - val_loss: 0.4200 - val_accuracy: 0.8208\n",
            "Epoch 4/5\n",
            "250/250 [==============================] - 27s 109ms/step - loss: 0.2615 - accuracy: 0.8984 - val_loss: 0.4389 - val_accuracy: 0.8189\n"
          ],
          "name": "stdout"
        }
      ]
    },
    {
      "cell_type": "markdown",
      "metadata": {
        "id": "42MnPFs9O3Fr"
      },
      "source": [
        "#### Step 5. 훈련 결과 진단하기"
      ]
    },
    {
      "cell_type": "code",
      "metadata": {
        "id": "rtaGxpJa4SmM",
        "colab": {
          "base_uri": "https://localhost:8080/",
          "height": 541
        },
        "outputId": "52077899-ee5b-44ab-c197-543191f89a28"
      },
      "source": [
        "import matplotlib.pyplot as plt\n",
        "\n",
        "def plot_graphs(history, string):\n",
        "  plt.plot(history.history[string])\n",
        "  plt.plot(history.history['val_'+string])\n",
        "  plt.xlabel(\"Epochs\")\n",
        "  plt.ylabel(string)\n",
        "  plt.legend([string, 'val_'+string])\n",
        "  plt.show()\n",
        "  \n",
        "plot_graphs(history, \"accuracy\")\n",
        "plot_graphs(history, \"loss\")"
      ],
      "execution_count": 17,
      "outputs": [
        {
          "output_type": "display_data",
          "data": {
            "image/png": "[encoded data removed]",
            "text/plain": [
              "<Figure size 432x288 with 1 Axes>"
            ]
          },
          "metadata": {
            "tags": [],
            "needs_background": "light"
          }
        },
        {
          "output_type": "display_data",
          "data": {
            "image/png": "[encoded data removed]",
            "text/plain": [
              "<Figure size 432x288 with 1 Axes>"
            ]
          },
          "metadata": {
            "tags": [],
            "needs_background": "light"
          }
        }
      ]
    },
    {
      "cell_type": "code",
      "metadata": {
        "id": "6q0dKaP01X_E",
        "colab": {
          "base_uri": "https://localhost:8080/"
        },
        "outputId": "00842eb0-7a9b-4ac9-c308-fdae670e8ffc"
      },
      "source": [
        "## Test Set에서의 accuracy 측정\n",
        "model.evaluate(test_ids, test_labels)"
      ],
      "execution_count": 18,
      "outputs": [
        {
          "output_type": "stream",
          "text": [
            "313/313 [==============================] - 2s 6ms/step - loss: 0.4538 - accuracy: 0.8083\n"
          ],
          "name": "stdout"
        },
        {
          "output_type": "execute_result",
          "data": {
            "text/plain": [
              "[0.4538450241088867, 0.8083000183105469]"
            ]
          },
          "metadata": {
            "tags": []
          },
          "execution_count": 18
        }
      ]
    },
    {
      "cell_type": "markdown",
      "metadata": {
        "id": "13AeKZe8JdIn"
      },
      "source": [
        "## #2. Inference 실행하기\n",
        "이제 학습이 완료된 모델로 새로운 문장에 대해 추론을 해보겠습니다."
      ]
    },
    {
      "cell_type": "code",
      "metadata": {
        "id": "SxopYLQtIkw1"
      },
      "source": [
        "\"\"\" 훈련된 모델로 다시 예측해보기 \"\"\"\n",
        "\n",
        "def inference(mymodel, sentence):\n",
        "  # 1. tokenizer로 문장 파싱\n",
        "  parsed_sent = tokenize(sentence)\n",
        "\n",
        "  # 2. vocab_dict를 이용해 인덱스로 변환\n",
        "  input_id1 = text_encoder.convert_tokens_to_ids(parsed_sent)\n",
        "  \n",
        "  # 단일 문장 추론이기 때문에 패딩할 필요가 없음\n",
        "  input_id = np.array([input_id1])\n",
        "  score = mymodel.predict(input_id)  #[1, 2]\n",
        "\n",
        "  print(\"** INPUT:\", sentence)\n",
        "  print(\"   -> 긍정: {:.2f} / 부정: {:.2f}\".format(score[0][0],score[0][1]))"
      ],
      "execution_count": 20,
      "outputs": []
    },
    {
      "cell_type": "code",
      "metadata": {
        "id": "kvmzn7Ec9Vn3",
        "colab": {
          "base_uri": "https://localhost:8080/"
        },
        "outputId": "1fce2771-7329-459d-b262-50504070f813"
      },
      "source": [
        "inference(model, \"올해의 영화!!! 최고!!!\")"
      ],
      "execution_count": 21,
      "outputs": [
        {
          "output_type": "stream",
          "text": [
            "** INPUT: 올해의 영화!!! 최고!!!\n",
            "   -> 긍정: 0.99 / 부정: 0.01\n"
          ],
          "name": "stdout"
        }
      ]
    },
    {
      "cell_type": "code",
      "metadata": {
        "id": "ikMK6a_s9aT6",
        "colab": {
          "base_uri": "https://localhost:8080/"
        },
        "outputId": "345721ef-ac8e-4e2a-dc4d-fb3e84122a1d"
      },
      "source": [
        "inference(model, \"내가 감독해도 이거보단 낫겠네\")"
      ],
      "execution_count": 22,
      "outputs": [
        {
          "output_type": "stream",
          "text": [
            "** INPUT: 내가 감독해도 이거보단 낫겠네\n",
            "   -> 긍정: 0.02 / 부정: 0.98\n"
          ],
          "name": "stdout"
        }
      ]
    },
    {
      "cell_type": "markdown",
      "metadata": {
        "id": "0C9eLc1iYwML"
      },
      "source": [
        "<font color=\"blue\">🙋‍♀️최근에 본 영화를 떠올리며 감상평을 써보세요! 모델이 잘 분류하는지 테스트해봅시다\n",
        "</font>"
      ]
    },
    {
      "cell_type": "code",
      "metadata": {
        "id": "mi_fIiVC4k8g",
        "colab": {
          "base_uri": "https://localhost:8080/"
        },
        "outputId": "baa98275-a39c-4365-b173-a2e4bb42cf01"
      },
      "source": [
        "inference(model, \"2회차 관람 예약이용 ㅠ\")"
      ],
      "execution_count": 23,
      "outputs": [
        {
          "output_type": "stream",
          "text": [
            "** INPUT: 2회차 관람 예약이용 ㅠ\n",
            "   -> 긍정: 0.70 / 부정: 0.30\n"
          ],
          "name": "stdout"
        }
      ]
    }
  ]
}