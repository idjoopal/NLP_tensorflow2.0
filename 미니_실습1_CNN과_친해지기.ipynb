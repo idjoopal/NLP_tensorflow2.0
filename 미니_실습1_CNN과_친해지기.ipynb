{
  "nbformat": 4,
  "nbformat_minor": 0,
  "metadata": {
    "colab": {
      "name": "미니_실습1_CNN과_친해지기.ipynb",
      "provenance": [],
      "collapsed_sections": [],
      "machine_shape": "hm",
      "include_colab_link": true
    },
    "kernelspec": {
      "name": "python3",
      "display_name": "Python 3"
    },
    "accelerator": "GPU"
  },
  "cells": [
    {
      "cell_type": "markdown",
      "metadata": {
        "id": "view-in-github",
        "colab_type": "text"
      },
      "source": [
        "<a href=\"https://colab.research.google.com/github/idjoopal/NLP_tensorflow2.0/blob/main/%EB%AF%B8%EB%8B%88_%EC%8B%A4%EC%8A%B51_CNN%EA%B3%BC_%EC%B9%9C%ED%95%B4%EC%A7%80%EA%B8%B0.ipynb\" target=\"_parent\"><img src=\"https://colab.research.google.com/assets/colab-badge.svg\" alt=\"Open In Colab\"/></a>"
      ]
    },
    {
      "cell_type": "markdown",
      "metadata": {
        "id": "RQuwLrfneJGq"
      },
      "source": [
        "## 1D CNN과 친해져요 :)"
      ]
    },
    {
      "cell_type": "code",
      "metadata": {
        "id": "mZ7JZpmsEyqC"
      },
      "source": [
        "import numpy as np\n",
        "from tensorflow.keras.layers import Conv1D, MaxPool1D, GlobalMaxPooling1D"
      ],
      "execution_count": 1,
      "outputs": []
    },
    {
      "cell_type": "markdown",
      "metadata": {
        "id": "J5M7A-EENdX1"
      },
      "source": [
        "1. 길이가 10 토큰인 문장을 임베딩 사이즈=32로 임베딩한 것에 CNN 적용하기"
      ]
    },
    {
      "cell_type": "code",
      "metadata": {
        "id": "pXZYQzcZMjEf",
        "colab": {
          "base_uri": "https://localhost:8080/"
        },
        "outputId": "1457dce5-580b-4149-9a90-38360357591b"
      },
      "source": [
        "BATCH_SIZE = 1\n",
        "SEQ_LEN = 10\n",
        "EMBEDDING_SIZE = 32\n",
        "\n",
        "embedded_input = np.array(np.random.normal(size=(BATCH_SIZE, SEQ_LEN, EMBEDDING_SIZE)), dtype=np.float32)\n",
        "print(embedded_input.shape)"
      ],
      "execution_count": 2,
      "outputs": [
        {
          "output_type": "stream",
          "text": [
            "(1, 10, 32)\n"
          ],
          "name": "stdout"
        }
      ]
    },
    {
      "cell_type": "code",
      "metadata": {
        "id": "mUBAmFSRMv0D"
      },
      "source": [
        "KERNEL_SIZE1 = 3\n",
        "NUM_FEATURE_MAP = 10\n",
        "\n",
        "cnn_applied1 = Conv1D(filters = NUM_FEATURE_MAP, \n",
        "                     kernel_size = KERNEL_SIZE1, \n",
        "                     activation='relu')(embedded_input)"
      ],
      "execution_count": 3,
      "outputs": []
    },
    {
      "cell_type": "code",
      "metadata": {
        "id": "9hbzM1UxNC53",
        "colab": {
          "base_uri": "https://localhost:8080/"
        },
        "outputId": "3278921a-beba-427c-ecf4-57d5218ed650"
      },
      "source": [
        "print(cnn_applied1.shape)"
      ],
      "execution_count": 4,
      "outputs": [
        {
          "output_type": "stream",
          "text": [
            "(1, 8, 10)\n"
          ],
          "name": "stdout"
        }
      ]
    },
    {
      "cell_type": "code",
      "metadata": {
        "id": "KYCMts2XO0j8"
      },
      "source": [
        "KERNEL_SIZE2 = 4\n",
        "NUM_FEATURE_MAP = 10\n",
        "\n",
        "cnn_applied2 = Conv1D(filters = NUM_FEATURE_MAP, \n",
        "                     kernel_size = KERNEL_SIZE2, \n",
        "                     activation='relu')(embedded_input)"
      ],
      "execution_count": 5,
      "outputs": []
    },
    {
      "cell_type": "code",
      "metadata": {
        "id": "nw_DUfYQNXYs",
        "colab": {
          "base_uri": "https://localhost:8080/"
        },
        "outputId": "61de59f0-6217-4a30-ecf9-66c8f525b577"
      },
      "source": [
        "print(cnn_applied2.shape)"
      ],
      "execution_count": 6,
      "outputs": [
        {
          "output_type": "stream",
          "text": [
            "(1, 7, 10)\n"
          ],
          "name": "stdout"
        }
      ]
    },
    {
      "cell_type": "markdown",
      "metadata": {
        "id": "mPKlNuaIQGrA"
      },
      "source": [
        "2. CNN feature map에 Max Pooling 적용하기"
      ]
    },
    {
      "cell_type": "code",
      "metadata": {
        "id": "g6gOJrXvQCP_",
        "colab": {
          "base_uri": "https://localhost:8080/"
        },
        "outputId": "48b936ae-307d-41ef-d7f4-dc52422abe21"
      },
      "source": [
        "POOL_SIZE1 = SEQ_LEN - KERNEL_SIZE1 + 1\n",
        "## <- 이 계산을 알아서 해주는 것이 GlobalMaxPooling1D !!!\n",
        "print(\"CNN applied size for kernel {} => {}\".format(KERNEL_SIZE1, cnn_applied1.shape))\n",
        "print(\"Pooling size for kernel {}     => {}\".format(KERNEL_SIZE1, POOL_SIZE1))\n",
        "\n",
        "max_pool_applied1 = GlobalMaxPooling1D()(cnn_applied1)\n",
        "print(max_pool_applied1.shape)"
      ],
      "execution_count": 7,
      "outputs": [
        {
          "output_type": "stream",
          "text": [
            "CNN applied size for kernel 3 => (1, 8, 10)\n",
            "Pooling size for kernel 3     => 8\n",
            "(1, 10)\n"
          ],
          "name": "stdout"
        }
      ]
    },
    {
      "cell_type": "code",
      "metadata": {
        "id": "vJRY6ALzL5eo",
        "colab": {
          "base_uri": "https://localhost:8080/"
        },
        "outputId": "3bf8732d-97c9-4560-efe1-1afbcafc0473"
      },
      "source": [
        "embedded_input.shape"
      ],
      "execution_count": 8,
      "outputs": [
        {
          "output_type": "execute_result",
          "data": {
            "text/plain": [
              "(1, 10, 32)"
            ]
          },
          "metadata": {
            "tags": []
          },
          "execution_count": 8
        }
      ]
    },
    {
      "cell_type": "code",
      "metadata": {
        "id": "NixAyQCHK4w5",
        "colab": {
          "base_uri": "https://localhost:8080/"
        },
        "outputId": "964f5724-cb41-42f4-ca6d-b049db5f9fc6"
      },
      "source": [
        "cnn_applied1.shape"
      ],
      "execution_count": 9,
      "outputs": [
        {
          "output_type": "execute_result",
          "data": {
            "text/plain": [
              "TensorShape([1, 8, 10])"
            ]
          },
          "metadata": {
            "tags": []
          },
          "execution_count": 9
        }
      ]
    },
    {
      "cell_type": "code",
      "metadata": {
        "id": "4SKPgGbvJV0c",
        "colab": {
          "base_uri": "https://localhost:8080/"
        },
        "outputId": "7cbb9b28-1281-4bb4-f987-af9c24079996"
      },
      "source": [
        "[a[1]for a in cnn_applied1[0]]"
      ],
      "execution_count": 10,
      "outputs": [
        {
          "output_type": "execute_result",
          "data": {
            "text/plain": [
              "[<tf.Tensor: shape=(), dtype=float32, numpy=1.6166552>,\n",
              " <tf.Tensor: shape=(), dtype=float32, numpy=2.4308357>,\n",
              " <tf.Tensor: shape=(), dtype=float32, numpy=0.0>,\n",
              " <tf.Tensor: shape=(), dtype=float32, numpy=0.2107942>,\n",
              " <tf.Tensor: shape=(), dtype=float32, numpy=2.0617235>,\n",
              " <tf.Tensor: shape=(), dtype=float32, numpy=0.0>,\n",
              " <tf.Tensor: shape=(), dtype=float32, numpy=0.0>,\n",
              " <tf.Tensor: shape=(), dtype=float32, numpy=0.8833798>]"
            ]
          },
          "metadata": {
            "tags": []
          },
          "execution_count": 10
        }
      ]
    },
    {
      "cell_type": "code",
      "metadata": {
        "id": "JRVOhCsIJV5s",
        "colab": {
          "base_uri": "https://localhost:8080/"
        },
        "outputId": "9afe177b-509d-47fc-9306-707c58ca4fba"
      },
      "source": [
        "max_pool_applied1[0]"
      ],
      "execution_count": 11,
      "outputs": [
        {
          "output_type": "execute_result",
          "data": {
            "text/plain": [
              "<tf.Tensor: shape=(10,), dtype=float32, numpy=\n",
              "array([2.2294135 , 2.4308357 , 2.0616124 , 2.0140908 , 0.6762388 ,\n",
              "       2.1492128 , 1.4381074 , 0.67868227, 1.7677219 , 0.29140157],\n",
              "      dtype=float32)>"
            ]
          },
          "metadata": {
            "tags": []
          },
          "execution_count": 11
        }
      ]
    },
    {
      "cell_type": "code",
      "metadata": {
        "id": "MsZL3uYlQrB3",
        "colab": {
          "base_uri": "https://localhost:8080/"
        },
        "outputId": "8bea097c-c6ed-44db-e1d3-e80f944ad092"
      },
      "source": [
        "POOL_SIZE2 = SEQ_LEN - KERNEL_SIZE2 + 1\n",
        "## <- 이 계산을 알아서 해주는 것이 GlobalMaxPooling1D !!!\n",
        "print(\"CNN applied size for kernel {} => {}\".format(KERNEL_SIZE2, cnn_applied2.shape))\n",
        "print(\"Pooling size for kernel {}     => {}\".format(KERNEL_SIZE2, POOL_SIZE2))\n",
        "\n",
        "max_pool_applied2 = GlobalMaxPooling1D()(cnn_applied2)\n",
        "print(max_pool_applied2.shape)"
      ],
      "execution_count": 12,
      "outputs": [
        {
          "output_type": "stream",
          "text": [
            "CNN applied size for kernel 4 => (1, 7, 10)\n",
            "Pooling size for kernel 4     => 7\n",
            "(1, 10)\n"
          ],
          "name": "stdout"
        }
      ]
    },
    {
      "cell_type": "markdown",
      "metadata": {
        "id": "F0Ax9S5M3pb5"
      },
      "source": [
        "3. 만들어진 feature들을 concat"
      ]
    },
    {
      "cell_type": "code",
      "metadata": {
        "id": "YmQ3J1H-RAq3",
        "colab": {
          "base_uri": "https://localhost:8080/",
          "height": 190
        },
        "outputId": "60e0bbbf-0f04-4bd0-e74d-3ea8c765e064"
      },
      "source": [
        "concated_feature = tf.keras.layers.concatenate([max_pool_applied1, max_pool_applied2], axis=-1)\n",
        "print(concated_feature.shape)"
      ],
      "execution_count": 13,
      "outputs": [
        {
          "output_type": "error",
          "ename": "NameError",
          "evalue": "ignored",
          "traceback": [
            "\u001b[0;31m---------------------------------------------------------------------------\u001b[0m",
            "\u001b[0;31mNameError\u001b[0m                                 Traceback (most recent call last)",
            "\u001b[0;32m<ipython-input-13-28d199dadcc9>\u001b[0m in \u001b[0;36m<module>\u001b[0;34m()\u001b[0m\n\u001b[0;32m----> 1\u001b[0;31m \u001b[0mconcated_feature\u001b[0m \u001b[0;34m=\u001b[0m \u001b[0mtf\u001b[0m\u001b[0;34m.\u001b[0m\u001b[0mkeras\u001b[0m\u001b[0;34m.\u001b[0m\u001b[0mlayers\u001b[0m\u001b[0;34m.\u001b[0m\u001b[0mconcatenate\u001b[0m\u001b[0;34m(\u001b[0m\u001b[0;34m[\u001b[0m\u001b[0mmax_pool_applied1\u001b[0m\u001b[0;34m,\u001b[0m \u001b[0mmax_pool_applied2\u001b[0m\u001b[0;34m]\u001b[0m\u001b[0;34m,\u001b[0m \u001b[0maxis\u001b[0m\u001b[0;34m=\u001b[0m\u001b[0;34m-\u001b[0m\u001b[0;36m1\u001b[0m\u001b[0;34m)\u001b[0m\u001b[0;34m\u001b[0m\u001b[0;34m\u001b[0m\u001b[0m\n\u001b[0m\u001b[1;32m      2\u001b[0m \u001b[0mprint\u001b[0m\u001b[0;34m(\u001b[0m\u001b[0mconcated_feature\u001b[0m\u001b[0;34m.\u001b[0m\u001b[0mshape\u001b[0m\u001b[0;34m)\u001b[0m\u001b[0;34m\u001b[0m\u001b[0;34m\u001b[0m\u001b[0m\n",
            "\u001b[0;31mNameError\u001b[0m: name 'tf' is not defined"
          ]
        }
      ]
    }
  ]
}